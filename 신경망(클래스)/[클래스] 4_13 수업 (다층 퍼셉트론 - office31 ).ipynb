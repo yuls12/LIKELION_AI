{
 "cells": [
  {
   "cell_type": "code",
   "execution_count": 1,
   "id": "cardiac-belle",
   "metadata": {
    "ExecuteTime": {
     "end_time": "2021-04-13T05:27:05.706243Z",
     "start_time": "2021-04-13T05:27:05.696566Z"
    }
   },
   "outputs": [],
   "source": [
    "import os\n",
    "\n",
    "os.chdir('C:\\\\Users\\\\gowra\\\\like_lion\\\\2.신경망\\\\신경망(클래스)/code/')"
   ]
  },
  {
   "cell_type": "code",
   "execution_count": 2,
   "id": "hispanic-current",
   "metadata": {
    "ExecuteTime": {
     "end_time": "2021-04-13T05:27:05.753392Z",
     "start_time": "2021-04-13T05:27:05.709234Z"
    }
   },
   "outputs": [
    {
     "data": {
      "text/plain": [
       "'C:\\\\Users\\\\gowra\\\\like_lion\\\\2.신경망\\\\신경망(클래스)\\\\code'"
      ]
     },
     "execution_count": 2,
     "metadata": {},
     "output_type": "execute_result"
    }
   ],
   "source": [
    "%pwd"
   ]
  },
  {
   "cell_type": "markdown",
   "id": "auburn-verse",
   "metadata": {},
   "source": [
    "#### Office31Dataset()클래스"
   ]
  },
  {
   "cell_type": "code",
   "execution_count": 3,
   "id": "bored-cement",
   "metadata": {
    "ExecuteTime": {
     "end_time": "2021-04-13T05:27:06.899472Z",
     "start_time": "2021-04-13T05:27:05.792118Z"
    }
   },
   "outputs": [],
   "source": [
    "%run dataset.ipynb"
   ]
  },
  {
   "cell_type": "code",
   "execution_count": 4,
   "id": "pointed-allowance",
   "metadata": {
    "ExecuteTime": {
     "end_time": "2021-04-13T05:27:06.915438Z",
     "start_time": "2021-04-13T05:27:06.901397Z"
    }
   },
   "outputs": [],
   "source": [
    "class Office31Dataset(Dataset):\n",
    "    @property\n",
    "    def base(self):\n",
    "        return super(Office31Dataset, self)\n"
   ]
  },
  {
   "cell_type": "markdown",
   "id": "prescribed-chemical",
   "metadata": {},
   "source": [
    "    @property 데코레이터를 사용하여 base() 함수는 인수 없이 호출되는 속성 함수로 활용\n",
    "    부모 클래스 메서드에 접근할 때 사용되는 super() 호출을 간단하게 표현하는데 사용되어 집니다.\n"
   ]
  },
  {
   "cell_type": "markdown",
   "id": "smaller-trace",
   "metadata": {},
   "source": [
    "##### __init__ 메서드 (데이터 불러오기)"
   ]
  },
  {
   "cell_type": "code",
   "execution_count": 5,
   "id": "occupied-opera",
   "metadata": {
    "ExecuteTime": {
     "end_time": "2021-04-13T05:27:06.947078Z",
     "start_time": "2021-04-13T05:27:06.919352Z"
    }
   },
   "outputs": [],
   "source": [
    "def office31_init(self, resolution=[100, 100], input_shape=[-1]):\n",
    "    self.base.__init__('office31', 'dual_select')\n",
    "    path = 'C:/Users/gowra/like_lion/2.신경망/신경망(클래스)/office'\n",
    "    \n",
    "    domain_names = list_dir(path)  # 폴더의 이름(domain)을 반환\n",
    "    #domain_names = 'amazon', 'dslr', 'webcam'\n",
    "    \n",
    "    images = []\n",
    "    didxs, oidxs = [], []  #domain / office\n",
    "\n",
    "    for dx, dname in enumerate(domain_names):\n",
    "        domainpath = os.path.join(path, dname, 'images')\n",
    "        # 'C:/Users/gowra/like_lion/2.신경망/신경망(클래스)/office/{dmain_name}/images'\n",
    "        \n",
    "        object_names = list_dir(domainpath) # domainpath 안에 있는 폴더명을 리스트로 가져옴\n",
    "        for ox, oname in enumerate(object_names):\n",
    "            objectpath = os.path.join(domainpath, oname)\n",
    "             # 'C:/Users/gowra/like_lion/2.신경망/신경망(클래스)/office/{dmain_name}/images/{object_name}'\n",
    "            filenames = list_dir(objectpath) # objectpath에 들어있는 이미지 이름을 리스트로 저장\n",
    "            for fname in filenames:\n",
    "                if fname[-4:] != '.jpg':  # 이미지 확장자가 jpg가 아니라면 pass\n",
    "                    continue\n",
    "                imagepath = os.path.join(objectpath, fname)\n",
    "                # 'C:/Users/gowra/like_lion/2.신경망/신경망(클래스)/office/{dmain_name}/images/{object_name}/{image.jpg}'\n",
    "                pixels = load_image_pixels(imagepath, resolution, input_shape) # 이미지에 대한 100x100으로 맞춰준뒤 1차원으로 변환\n",
    "                images.append(pixels)\n",
    "                didxs.append(dx) # 도메인에 관한 idx\n",
    "                oidxs.append(ox)  # 오브젝트에 관한 idx\n",
    "                \n",
    "    self.image_shape = resolution + [3] # -1에서 3차원으로 복구하기위한 작업\n",
    "\n",
    "    xs = np.asarray(images, np.float32) # 계산을 원활하게 하기위해 numpy로 만들어줌\n",
    "\n",
    "    ys0 = onehot(didxs, len(domain_names)) # 원핫벡터로 만들기 위한 domain의 수\n",
    "    ys1 = onehot(oidxs, len(object_names)) # 원핫벡터로 만들기 위한 object의 수\n",
    "    ys = np.hstack([ys0, ys1]) # 행을 이어 붙여줌 [0,0,1 / , 0,0,0,1] domaain / object\n",
    "\n",
    "    self.shuffle_data(xs, ys, 0.8) # train 80%로 잡고 shuffle 해준다.\n",
    "    self.target_names = [domain_names, object_names] # domain과 object의 이름을 target으로 저장\n",
    "    self.cnts = [len(domain_names)] # 도메인과 오브젝트를 구분하기위한 구분선으로 사용하기위해 지정"
   ]
  },
  {
   "cell_type": "code",
   "execution_count": 6,
   "id": "scheduled-dealing",
   "metadata": {
    "ExecuteTime": {
     "end_time": "2021-04-13T05:27:06.962715Z",
     "start_time": "2021-04-13T05:27:06.948981Z"
    }
   },
   "outputs": [
    {
     "data": {
      "text/plain": [
       "array([0, 0, 1, 0, 0, 0, 0, 0, 1])"
      ]
     },
     "execution_count": 6,
     "metadata": {},
     "output_type": "execute_result"
    }
   ],
   "source": [
    "import numpy as np\n",
    "\n",
    "y1 = [0,0,1]\n",
    "y2 = [0,0,0,0,0,1]\n",
    "y = np.hstack([y1,y2])\n",
    "y"
   ]
  },
  {
   "cell_type": "markdown",
   "id": "senior-thousand",
   "metadata": {},
   "source": [
    "    초기화  __init__ 메서드를 함수형식으로 구축하는 방식\n",
    "    모드값 dual_select 은 기존의 'regression', 'binary', 'select' 디폴트 값에 속하지 않는 새로운 값이다.\n",
    "\n",
    "    우선 폴더 구조를 살펴보면 office31 → 도메인 이름(3) → images → 객체 이름(31) →  이미지 파일 구조로 되어 있다. \n",
    "    그렇기에 도메인 이름과 객체 이름을 정답 라벨로 사용하기 위해 이전에 정의한 list_dir()를 통해 \n",
    "    반환된 폴더명을 각각 domain_names, object_names 에 저장\n",
    "\n",
    "    enumerate() 를 활용한 반복문을 사용하고 있는데, 여기서 수집된 dx와 ox는 append()를 통해 각각 didxs, oidxs에 누적 저장을 수행\n",
    "    이렇게 저장된 리스트들은 이후 onehot() 를 통해 원 핫 벡터로 표현되어 집니다.\n",
    "\n",
    "    도메인은 ys0, 오브젝트는 ys1 로 각각 저장되어 지지만, 우리가 원하는 바는 복합 출력입니다. \n",
    "    그렇기에 np.hstack() 를 통해 ys0과 ys1의 행을 연접시켜 정답 정보 ys를 만들어 주겠습니다. \n",
    "    이렇게 구해진 xs와 ys는 self.shuffle_data() 를 통해 데이터가 무작위로 섞여지며, \n",
    "    학습/검증/평가 로 나눠지는 과정을 진행하게 됩니다.\n",
    "\n",
    "    마지막으로 self.cnts 를 도메인 수에 해당하는 값을 원소로 하는 리스트 [3]으로 지정하게 되는데, \n",
    "    이 값은 후처리 과정에서 여러 텐서를 도메인 부분과 오브젝트 부분으로 나눌 때 분할 위치를 나타내는 인덱스 역할을 하게 된다. \n",
    "    그리고 중간에 self.image_shape = resolution + [3] 의 과정을 통해 다시 1차원의 픽셀값을 이미지로 전환시켜 주고 있다. \n",
    "    이는 이전 꽃 이미지 과정과 마찬가지로 모든 3차원 이미지 데이터를 1차원 벡터 처리 후에 다시 3차원형식으로 전환하여 시각화처리를 위한 과정\n",
    "    다소 복잡해 보이지만 복합 출력에 따른 도메인과 오브젝트 단위의 폴더 구조를 파악한다면 이전 꽃 이미지 방식과 매우 유사한 방식이라 할 수 있다.\n",
    "\n",
    "\n"
   ]
  },
  {
   "cell_type": "markdown",
   "id": "according-variety",
   "metadata": {},
   "source": [
    "##### 복합 출력을 위한 순전파 함수 office31_forward_postproc() 를 구축"
   ]
  },
  {
   "cell_type": "code",
   "execution_count": 7,
   "id": "entertaining-diversity",
   "metadata": {
    "ExecuteTime": {
     "end_time": "2021-04-13T05:27:06.978186Z",
     "start_time": "2021-04-13T05:27:06.964713Z"
    }
   },
   "outputs": [],
   "source": [
    "def office31_forward_postproc(self, output, y):  #예측과 실제 정답을 구분하여 저장하는과정\n",
    "    #np.hsplits(나누고자 하는 것, 몇개로)나누는 함수\n",
    "    outputs, ys = np.hsplit(output, self.cnts), np.hsplit(y, self.cnts)  # 도메인의 수 만큼 나눠준다. (도메인/ 오브젝트)\n",
    "    \n",
    "    # Dataset() 클래스의 forward_postproc() 메서드로 접근\n",
    "    # dual_select이 없기 때문에 'select'을 활용\n",
    "    loss0, aux0 = self.base.forward_postproc(outputs[0], ys[0], 'select') # domain 값\n",
    "    loss1, aux1 = self.base.forward_postproc(outputs[1], ys[1], 'select') # object 값\n",
    "\n",
    "    # 손실 합산\n",
    "    return loss0 + loss1, [aux0, aux1]"
   ]
  },
  {
   "cell_type": "markdown",
   "id": "noted-culture",
   "metadata": {
    "ExecuteTime": {
     "end_time": "2021-04-13T02:25:06.589458Z",
     "start_time": "2021-04-13T02:25:06.581704Z"
    }
   },
   "source": [
    "    MlpModel() 클래스에 있는 forward_postproc() 메서드를 재정의 \n",
    "    복합 출력에 맞는 기능을 추가하는 메서드를 만들어야 합니다. \n",
    "    우선 신경망의 추측 output 과 실제 정답 y 를 전달받아 np.hsplit()를 통해 \n",
    "    self.cnts 값인 [3] 만큼을 outputs 와 ys 의 0번째 행에, 나머지 3 이후의 값에 대해서는 1번째 행에 저장\n",
    "\n",
    "    Dataset() 클래스의 forward_postproc() 메서드로 접근하여 다중 선택 분류 모드인 'select' 을 매개변수로 할당하고, \n",
    "    outputs 과 ys 도 각 행에 맞춰 전달해주도록 합니다.\n",
    "\n",
    "    각 복합 출력에 따른 𝐿1, 𝐿2 를 얻게 되었을 때, 전체적인 손실 함수값은\n",
    "    𝐿 = 𝐿1 + 𝐿2 로 정의하였습니다. 그리고 𝐿 을 최소화 하기 위한 노력은 결국 𝐿1과 𝐿2 를 줄이려는 노력으로 귀결되었습니다. \n",
    "    이 과정이 가능한 이유는 편미분의 특성과 𝐿1과 𝐿2 가 서로에게 상수로 간주된다는 점이었습니다. \n",
    "    그래서 메서드의 반환값으로 전달된 loss0, loss1 은 합산하여 전달해주도록 하겠습니다.\n"
   ]
  },
  {
   "cell_type": "code",
   "execution_count": null,
   "id": "racial-stewart",
   "metadata": {},
   "outputs": [],
   "source": []
  },
  {
   "cell_type": "markdown",
   "id": "knowing-times",
   "metadata": {},
   "source": [
    "##### 역전파 함수를 정의"
   ]
  },
  {
   "cell_type": "code",
   "execution_count": 8,
   "id": "italian-mercy",
   "metadata": {
    "ExecuteTime": {
     "end_time": "2021-04-13T05:27:06.994157Z",
     "start_time": "2021-04-13T05:27:06.981179Z"
    }
   },
   "outputs": [],
   "source": [
    "def office31_backprop_postproc(self, G_loss, aux):  # G_loss : delta 값\n",
    "    aux0, aux1 = aux\n",
    "    #역전파를 위한 G_OUTPUT구하기 \\ G_OUTPUT0는 3개, G_OUTPUT1은 31개\n",
    "    G_ouput0 = self.base.backprop_postproc(G_loss, aux0, 'select')\n",
    "    G_ouput1 = self.base.backprop_postproc(G_loss, aux1, 'select')\n",
    "\n",
    "    return np.hstack([G_ouput0, G_ouput1])  # 나눠서 구한 값을 다시 합쳐주고 있다."
   ]
  },
  {
   "cell_type": "markdown",
   "id": "private-battlefield",
   "metadata": {},
   "source": [
    "    앞서 전달받은 aux0, aux1을 통해 도메인과 오브젝트의 다중 선택분류에 따른 G_outout을 구하는 과정입니다.\n",
    "    마찬가지로 MlpModel() 클래스의 메서드를 재정의하여 Dataset() 클래스의 'select' 모드를 활용하여 주도록 하였습니다. \n",
    "    그리고 반환되어진 값은 이후 output 행렬과 손실 기울기를 구해야 하므로 같은 형태로 만들어 반환을 해줘야 하는데 \n",
    "    이때 np.hstack() 를 통해 일렬로 반환하게 되면 문제없이 한번에  연산이 진행되어 집니다.\n"
   ]
  },
  {
   "cell_type": "markdown",
   "id": "alternate-bidder",
   "metadata": {},
   "source": [
    "##### 평가를 위한 메서드를 정의"
   ]
  },
  {
   "cell_type": "code",
   "execution_count": 9,
   "id": "metric-contrary",
   "metadata": {
    "ExecuteTime": {
     "end_time": "2021-04-13T05:27:07.009976Z",
     "start_time": "2021-04-13T05:27:06.998091Z"
    }
   },
   "outputs": [],
   "source": [
    "def office31_eval_accuracy(self, x, y, output):\n",
    "    #예측 output과 실제값 y를 받아 각각 분할\n",
    "    outputs, ys = np.hsplit(output, self.cnts), np.hsplit(y, self.cnts)\n",
    "    \n",
    "    # 값을 전달받아 Dataset에 있는 eval_accuracy()에 값을 전달하여 acc 구하기\n",
    "    acc0 = self.base.eval_accuracy(x, ys[0], outputs[0], 'select') # base는 Dataset이라고 봐도 된다.\n",
    "    acc1 = self.base.eval_accuracy(x, ys[1], outputs[1], 'select')\n",
    "\n",
    "    return [acc0, acc1]"
   ]
  },
  {
   "cell_type": "markdown",
   "id": "contemporary-minister",
   "metadata": {},
   "source": [
    "    정확도의 경우 앞서 loss를 구하는 과정과 비슷하지만 도메인과 오브젝트에 대한 결과는 각각 따로 반환하여 줍니다. \n",
    "    이 과정에서 Dataset() 클래스의 eval_accuracy() 메서드가 활용되어지는데, \n",
    "    앞서 loss를 구하는 과정에서 np.split()로 나눠진 값들을 여기에 다시 활용하여 주겠습니다.\n",
    "\n",
    "    그리고 이렇게 구해진 acc0, acc1은 하나의 리스트로 하여 반환하는 과정을 진행하여 주겠습니다.\n"
   ]
  },
  {
   "cell_type": "markdown",
   "id": "tough-bunny",
   "metadata": {},
   "source": [
    "##### 출력을 담당하는 메서드를 정의"
   ]
  },
  {
   "cell_type": "code",
   "execution_count": 10,
   "id": "suited-cabinet",
   "metadata": {
    "ExecuteTime": {
     "end_time": "2021-04-13T05:27:07.025173Z",
     "start_time": "2021-04-13T05:27:07.013209Z"
    }
   },
   "outputs": [],
   "source": [
    "# MLP_model_train에서 실행되는 함수\n",
    "def office31_train_prt_result(self, epoch, costs, accs, acc, time1, time2): # accs = [acc0., acc1]\n",
    "    acc_pair = np.mean(accs, axis=0) # acc0과 acc1의 각각의 평균을 acc_pair에 저장\n",
    "    print(\n",
    "        'Epoch {}: cost={:5.3f}, accuracy={:5.3f}+{:5.3f}/{:5.3f}+{:5.3f} ({}/{} secs)'\n",
    "        .format(epoch, np.mean(costs), acc_pair[0], acc_pair[1], acc[0],\n",
    "                acc[1], time1, time2))  # acc[0], acc[1] > 검증 데이터의 정확도\n",
    "\n",
    "# mlp_model_test 에서 실행되는 함수\n",
    "def office31_test_prt_result(self, name, acc, time):\n",
    "    print(\n",
    "        'Model {} test report: accuracy = {:5.3f}+{:5.3f}, ({} secs)\\n'.format(\n",
    "            name, acc[0], acc[1], time)) # acc[0], acc[1]은 평가데이터의 정확도"
   ]
  },
  {
   "cell_type": "markdown",
   "id": "funny-huntington",
   "metadata": {},
   "source": [
    "    학습 과정에 따른 출력 메소드 입니다. \n",
    "    이전 꽃 이미지 과정과 마찬가지로 에폭, 손실, 학습 데이터의 정확도, 검증 데이터의 정확도, 에폭 단위의 시간, 누적시간 이렇게 출력을 수행. \n",
    "    하지만 이전과 다른 점은 복합 출력이라는 점입니다. \n",
    "    그리고 변수 accs에는 단일 정확도가 아닌 도메인과 오브젝트에 대한 미니배치에 따른 정확도의 평균값이 저장되어 있습니다. \n",
    "    그렇기에 이를 acc_pair 로 저장하고, {:5.3f} + {:5.3f} 로 포멧을 정해 출력을 수행하도록 하였습니다.\n",
    "\n",
    "    마찬가지로 검증 데이터에 따른 정확도인 acc도 마찬가지로 학습 데이터의 결괏값과 같은 포멧으로 출력을 수행하였습니다. \n",
    "    테스트 데이터에 대한 출력 메서드도 테스트 데이터를 통해 얻어진 acc 에 저장된 도메인과 오브젝트 단위의 정확도를 나눠 \n",
    "    {:5.3f}+{:5.3f} 형식으로 출력을 진행하였습니다"
   ]
  },
  {
   "cell_type": "markdown",
   "id": "brave-forwarding",
   "metadata": {
    "ExecuteTime": {
     "end_time": "2021-04-13T02:25:18.762652Z",
     "start_time": "2021-04-13T02:25:18.758617Z"
    }
   },
   "source": [
    "##### 추정 확률 분포와 시각화"
   ]
  },
  {
   "cell_type": "code",
   "execution_count": 11,
   "id": "inclusive-incentive",
   "metadata": {
    "ExecuteTime": {
     "end_time": "2021-04-13T05:27:07.041100Z",
     "start_time": "2021-04-13T05:27:07.028123Z"
    }
   },
   "outputs": [],
   "source": [
    "# mlp_model_visualize 에서 get_estimate 함수에 들어갈 함수\n",
    "def office31_get_estimate(self, output):  \n",
    "    outputs = np.hsplit(output, self.cnts) # 예측 결과를 도메인과 오브젝트로 나눠준다.\n",
    "    \n",
    "    # Dataset의 estimate를 수행한다.\n",
    "    estimate0 = self.base.get_estimate(outputs[0], 'select')  \n",
    "    estimate1 = self.base.get_estimate(outputs[1], 'select')\n",
    "    return np.hstack([estimate0, estimate1])\n"
   ]
  },
  {
   "cell_type": "code",
   "execution_count": 12,
   "id": "integrated-emerald",
   "metadata": {
    "ExecuteTime": {
     "end_time": "2021-04-13T05:27:07.057118Z",
     "start_time": "2021-04-13T05:27:07.043084Z"
    }
   },
   "outputs": [],
   "source": [
    "def office31_visualize(self, xs, estimates, answers):  # mlp_model_visualize(self, deX, est, deY)\n",
    "    draw_images_horz(xs, self.image_shape) # 입력값으로 들어온 픽셀값을 3차원으로 전환하여 출력\n",
    "    \n",
    "    # 검증 데이터를 활용한 추측값으로 ests를, 정답 데이터를 활용한 값으로 anss를 저장\n",
    "    ests, anss = np.hsplit(estimates, self.cnts), np.hsplit(answers, self.cnts)\n",
    "    \n",
    "    # 복합 문제의 labeling 이름을 지정\n",
    "    captions = ['도메인', '상품']\n",
    "    \n",
    "    for m in range(2):\n",
    "        print('[ {} 추정결과 ]'.format(captions[m]))\n",
    "        show_select_results(ests[m], anss[m], self.target_names[m], 8)  # 추정확률분포, 신경망의 추정, 실제 정답, 비교 결과를 출력"
   ]
  },
  {
   "cell_type": "markdown",
   "id": "internal-confidence",
   "metadata": {},
   "source": [
    "    우선 output 에 저장된 [3,34]의 값을 np.hsplit()에 [3]을 넣어 도메인 결과[3,3]과 오브젝트 결과[3,31]의 배열로 분할\n",
    "    그리고 Dataset()에서 설계한 메서드인 get_estimate() 를 통해 각각 도메인과 오브젝트에 대해 선택 분류를 수행, \n",
    "    그에 대한 추측을 estimate0, estimate1에 저장하여 주겠습니다. \n",
    "    그리고 그 결괏값은 np.hstack() 를 통해 반환합니다.\n",
    "\n",
    "    마지막으로 office31_visualize() 메서드를 정의합니다. \n",
    "    이 메서드는 꽃 이미지에서 구축한 draw_images_horz() 메서드를 통해 입력값으로 들어온 픽셀값을 3차원으로 전환하여 출력을 수행하며,\n",
    "    검증 데이터를 활용한 추측값으로 ests를, 정답 데이터를 활용한 값으로 anss를 저장하여 줍니다.  \n",
    "    그리고 복합 출력인 만큼 현재 정답은 각각 나눠져 있습니다. \n",
    "    그에 대한 출력을 수행하기 위해 mathutil.ipynb 에서 구축한 show_select_results() 함수를 불러와 \n",
    "    추정확률분포, 신경망의 추정, 실제 정답, 비교 결과를 출력하여 주겠습니다. \n",
    "\n",
    "    이 과정에서 '도메인'과 오브젝트 즉 '상품' 이라는 캡션을 달아 보기 수월하게 진행하였습니다.\n"
   ]
  },
  {
   "cell_type": "markdown",
   "id": "biblical-found",
   "metadata": {},
   "source": [
    "##### Office31Dataset에 함수 불러오기"
   ]
  },
  {
   "cell_type": "code",
   "execution_count": 13,
   "id": "worth-archives",
   "metadata": {
    "ExecuteTime": {
     "end_time": "2021-04-13T05:27:07.073229Z",
     "start_time": "2021-04-13T05:27:07.060044Z"
    }
   },
   "outputs": [],
   "source": [
    "Office31Dataset.__init__ = office31_init\n",
    "Office31Dataset.forward_postproc = office31_forward_postproc\n",
    "Office31Dataset.backprop_postproc = office31_backprop_postproc\n",
    "Office31Dataset.eval_accuracy = office31_eval_accuracy\n",
    "Office31Dataset.get_estimate = office31_get_estimate\n",
    "Office31Dataset.train_prt_result = office31_train_prt_result\n",
    "Office31Dataset.test_prt_result = office31_test_prt_result\n",
    "Office31Dataset.visualize = office31_visualize"
   ]
  },
  {
   "cell_type": "code",
   "execution_count": null,
   "id": "viral-mission",
   "metadata": {},
   "outputs": [],
   "source": []
  },
  {
   "cell_type": "markdown",
   "id": "comparative-access",
   "metadata": {},
   "source": [
    "#### 실험"
   ]
  },
  {
   "cell_type": "markdown",
   "id": "horizontal-munich",
   "metadata": {},
   "source": [
    "마지막으로 세 가지 실험을 수행하도록 하겠습니다.\n",
    "\n",
    "    1. 은닉 계층이 하나인 다층 퍼셉트론으로 오피스 31 실험\n",
    "    2. 은닉 계층이 세 개인 다층 퍼셉트론으로 오피스 31 실험\n",
    "    3. 은닉 계층이 세 개인 다층 퍼셉트론과 아담 알고리즘으로 오피스 31 실험\n"
   ]
  },
  {
   "cell_type": "code",
   "execution_count": 14,
   "id": "small-constant",
   "metadata": {
    "ExecuteTime": {
     "end_time": "2021-04-13T05:27:07.168151Z",
     "start_time": "2021-04-13T05:27:07.074915Z"
    }
   },
   "outputs": [],
   "source": [
    "%run adam_model.ipynb\n",
    "%run dataset_office31.ipynb\n"
   ]
  },
  {
   "cell_type": "code",
   "execution_count": 15,
   "id": "electoral-signal",
   "metadata": {
    "ExecuteTime": {
     "end_time": "2021-04-13T05:27:49.747633Z",
     "start_time": "2021-04-13T05:27:07.168939Z"
    },
    "scrolled": true
   },
   "outputs": [],
   "source": [
    "od = Office31Dataset()"
   ]
  },
  {
   "cell_type": "markdown",
   "id": "departmental-decrease",
   "metadata": {},
   "source": [
    "    Office31Dataset() 클래스를 변수화 시켜 이후 신경망 구축을 위한 준비를 수행"
   ]
  },
  {
   "cell_type": "markdown",
   "id": "filled-given",
   "metadata": {},
   "source": [
    "##### 실험1"
   ]
  },
  {
   "cell_type": "markdown",
   "id": "sticky-request",
   "metadata": {},
   "source": [
    "    은닉 계층 정보란에 오직 하나의 은닉 계층에 대한 정보를 알려주며, exec_all()를 작동시켜 주겠습니다"
   ]
  },
  {
   "cell_type": "code",
   "execution_count": 16,
   "id": "offensive-oliver",
   "metadata": {
    "ExecuteTime": {
     "end_time": "2021-04-13T05:28:43.803422Z",
     "start_time": "2021-04-13T05:27:49.748591Z"
    }
   },
   "outputs": [
    {
     "name": "stdout",
     "output_type": "stream",
     "text": [
      "Model office31_model_1 train started:\n",
      "Epoch 10: cost=4.296, accuracy=0.685+0.035/0.790+0.040 (26/26 secs)\n",
      "Epoch 20: cost=4.268, accuracy=0.685+0.037/0.780+0.020 (28/54 secs)\n",
      "Model office31_model_1 train ended in 54 secs:\n",
      "Model office31_model_1 test report: accuracy = 0.661+0.048, (0 secs)\n",
      "\n",
      "Model office31_model_1 Visualization\n"
     ]
    },
    {
     "data": {
      "image/png": "[encoded data removed]",
      "text/plain": [
       "<Figure size 360x360 with 3 Axes>"
      ]
     },
     "metadata": {
      "needs_background": "light"
     },
     "output_type": "display_data"
    },
    {
     "name": "stdout",
     "output_type": "stream",
     "text": [
      "[ 도메인 추정결과 ]\n",
      "추정확률분포 [65,15,20] => 추정 amazon : 정답 amazon => O\n",
      "추정확률분포 [65,15,20] => 추정 amazon : 정답 amazon => O\n",
      "추정확률분포 [65,15,20] => 추정 amazon : 정답 dslr => X\n",
      "[ 상품 추정결과 ]\n",
      "추정확률분포 [ 3, 3, 3, 3, 3, 3, 3, 3,...] => 추정 monitor : 정답 ring_binder => X\n",
      "추정확률분포 [ 3, 3, 3, 3, 3, 3, 3, 3,...] => 추정 monitor : 정답 pen => X\n",
      "추정확률분포 [ 3, 3, 3, 3, 3, 3, 3, 3,...] => 추정 monitor : 정답 mouse => X\n"
     ]
    }
   ],
   "source": [
    "om1 = AdamModel('office31_model_1', od, [10])\n",
    "om1.exec_all(epoch_count=20, report=10)"
   ]
  },
  {
   "cell_type": "markdown",
   "id": "monthly-triangle",
   "metadata": {},
   "source": [
    "    학습 결과 3가지를 분류하는 도메인은 60% 내외를 순회하였으며, 31가지를 분류하는 오브젝트에 관해서는 5%미만의 정확도를 보여주었다.  \n",
    "    오브젝트의 추정확률분포만 봐도 모두 동일한 분포값을 가지고 있다는 것을 확인할 수 있으며, \n",
    "    이를 통해 단일 은닉 계층으로는 학습이 이뤄지지 않았다는 것을 알 수 있었습니다.\n"
   ]
  },
  {
   "cell_type": "markdown",
   "id": "least-minute",
   "metadata": {},
   "source": [
    "##### 실험2 - Adam 사용하지 않은 모델"
   ]
  },
  {
   "cell_type": "markdown",
   "id": "local-employment",
   "metadata": {},
   "source": [
    "    은닉 계층의 수와 폭을 대폭 늘려보았습니다. 뿐만 아니라 학습 횟수, 학습률 모두 더 나은 학습을 위해 값을 조정하였습니다.\n"
   ]
  },
  {
   "cell_type": "code",
   "execution_count": 17,
   "id": "naval-chrome",
   "metadata": {
    "ExecuteTime": {
     "end_time": "2021-04-13T05:37:28.028403Z",
     "start_time": "2021-04-13T05:28:43.806367Z"
    }
   },
   "outputs": [
    {
     "name": "stdout",
     "output_type": "stream",
     "text": [
      "Model office31_model_2 train started:\n",
      "Epoch 10: cost=3.749, accuracy=0.804+0.091/0.860+0.090 (99/99 secs)\n",
      "Epoch 20: cost=3.478, accuracy=0.851+0.141/0.840+0.110 (107/206 secs)\n",
      "Epoch 30: cost=3.273, accuracy=0.868+0.192/0.840+0.090 (107/313 secs)\n",
      "Epoch 40: cost=3.123, accuracy=0.882+0.214/0.900+0.130 (103/416 secs)\n",
      "Epoch 50: cost=2.985, accuracy=0.887+0.247/0.870+0.140 (108/524 secs)\n",
      "Model office31_model_2 train ended in 524 secs:\n",
      "Model office31_model_2 test report: accuracy = 0.867+0.195, (0 secs)\n",
      "\n",
      "Model office31_model_2 Visualization\n"
     ]
    },
    {
     "data": {
      "image/png": "[encoded data removed]",
      "text/plain": [
       "<Figure size 360x360 with 3 Axes>"
      ]
     },
     "metadata": {
      "needs_background": "light"
     },
     "output_type": "display_data"
    },
    {
     "name": "stdout",
     "output_type": "stream",
     "text": [
      "[ 도메인 추정결과 ]\n",
      "추정확률분포 [100, 0, 0] => 추정 amazon : 정답 amazon => O\n",
      "추정확률분포 [100, 0, 0] => 추정 amazon : 정답 amazon => O\n",
      "추정확률분포 [95, 0, 5] => 추정 amazon : 정답 amazon => O\n",
      "[ 상품 추정결과 ]\n",
      "추정확률분포 [ 6, 0, 0,20, 1,11, 7, 8,...] => 추정 bookcase : 정답 tape_dispenser => X\n",
      "추정확률분포 [ 0, 1, 3, 0, 0, 0, 0, 0,...] => 추정 keyboard : 정답 letter_tray => X\n",
      "추정확률분포 [ 0, 5, 0, 1, 1, 3, 1, 5,...] => 추정 pen : 정답 ruler => X\n"
     ]
    }
   ],
   "source": [
    "om2 = AdamModel('office31_model_2', od, [64, 32, 10])\n",
    "om2.exec_all(epoch_count=50, report=10, learning_rate=0.0001)"
   ]
  },
  {
   "cell_type": "markdown",
   "id": "compatible-mouth",
   "metadata": {
    "ExecuteTime": {
     "end_time": "2021-04-13T04:17:47.235234Z",
     "start_time": "2021-04-13T04:17:46.900198Z"
    }
   },
   "source": [
    "    이전과 달리 학습 시간부터 굉장히 늘어난 것을 확인할 수 있는데, \n",
    "    이는 더 낮아진 학습률, 더 복잡해진 은닉 계층의 수와 폭으로 인해 파라미터의 증가, 갱신의 폭 축소로 이어지게 된 것 입니다.\n",
    "    반면 도메인과 오브젝트 모두 정확도가 소폭 상승한 것을 확인할 수 있습니다.\n",
    "\n",
    "    도메인의 경우 기존 약 60% 에서 80% 까지 +20% 상승하였으며, \n",
    "    오브젝트의 경우 5%미만의 정확도에서 4~5배인 20% 까지 정확도가 상승하게 되었습니다.\n",
    "\n",
    "    추정확률분포만 봐도 이전에는 모두 동일한 결과를 보였지만 지금은 어느정도 정답을 찾기위한 분포를 보여주고 있습니다.\n",
    "    하지만 아직까지 만족스러운 결과는 보여주지 못하고 있습니다.\n"
   ]
  },
  {
   "cell_type": "markdown",
   "id": "dated-exhaust",
   "metadata": {},
   "source": [
    "##### 실험3 - Adam 사용"
   ]
  },
  {
   "cell_type": "markdown",
   "id": "informational-retirement",
   "metadata": {},
   "source": [
    "    아담 알고리즘에 대한 플래그값을 True 로 전환하여 학습을 수행"
   ]
  },
  {
   "cell_type": "code",
   "execution_count": 18,
   "id": "neural-carry",
   "metadata": {
    "ExecuteTime": {
     "end_time": "2021-04-13T05:45:51.066671Z",
     "start_time": "2021-04-13T05:37:28.031369Z"
    }
   },
   "outputs": [
    {
     "name": "stdout",
     "output_type": "stream",
     "text": [
      "Model office31_model_3 train started:\n",
      "Epoch 10: cost=3.708, accuracy=0.818+0.089/0.870+0.050 (106/106 secs)\n",
      "Epoch 20: cost=3.303, accuracy=0.867+0.166/0.860+0.150 (100/206 secs)\n",
      "Epoch 30: cost=3.096, accuracy=0.883+0.202/0.880+0.180 (97/303 secs)\n",
      "Epoch 40: cost=2.931, accuracy=0.894+0.242/0.880+0.230 (103/406 secs)\n",
      "Epoch 50: cost=2.798, accuracy=0.902+0.272/0.870+0.170 (96/502 secs)\n",
      "Model office31_model_3 train ended in 502 secs:\n",
      "Model office31_model_3 test report: accuracy = 0.882+0.237, (0 secs)\n",
      "\n",
      "Model office31_model_3 Visualization\n"
     ]
    },
    {
     "data": {
      "image/png": "[encoded data removed]",
      "text/plain": [
       "<Figure size 360x360 with 3 Axes>"
      ]
     },
     "metadata": {
      "needs_background": "light"
     },
     "output_type": "display_data"
    },
    {
     "name": "stdout",
     "output_type": "stream",
     "text": [
      "[ 도메인 추정결과 ]\n",
      "추정확률분포 [99, 0, 0] => 추정 amazon : 정답 amazon => O\n",
      "추정확률분포 [100, 0, 0] => 추정 amazon : 정답 amazon => O\n",
      "추정확률분포 [100, 0, 0] => 추정 amazon : 정답 amazon => O\n",
      "[ 상품 추정결과 ]\n",
      "추정확률분포 [ 0, 1, 0, 2, 5, 2, 1,13,...] => 추정 desk_lamp : 정답 scissors => X\n",
      "추정확률분포 [ 2, 2, 1, 9, 7, 2, 0,12,...] => 추정 paper_notebook : 정답 printer => X\n",
      "추정확률분포 [ 0, 0, 2, 2, 0, 1, 2, 1,...] => 추정 headphones : 정답 calculator => X\n"
     ]
    }
   ],
   "source": [
    "om3 = AdamModel('office31_model_3', od, [64, 32, 10])\n",
    "om2.use_adam = True\n",
    "om3.exec_all(epoch_count=50, report=10, learning_rate=0.0001)"
   ]
  },
  {
   "cell_type": "markdown",
   "id": "balanced-adams",
   "metadata": {},
   "source": [
    "    이미지 분류 문제를 다층 퍼셉트론으로 풀어낸 것에 대한 한계가 존재하기는 하지만, \n",
    "    아담 알고리즘을 이용한다고 무조건 학습 결과가 대폭 향상된다는 것은 아니라는 결과를 얻어내었습니다. \n",
    "\n",
    "    최적화 알고리즘은 앞서 살펴본 Momentum, AdaGrad, RMSProp 외에도 더 다양하게 존재합니다.\n",
    "    그리고 각 알고리즘이 갖는 장점과 단점 모두 명확하기에 무조건 Adam을 사용하는 것 보다는 \n",
    "    자신의 실험 환경에 맞는 최적화 알고리즘을 탐색하여 적용하는 방법을 조심스럽게 권해 보는 바입니다.\n"
   ]
  },
  {
   "cell_type": "code",
   "execution_count": null,
   "id": "southwest-familiar",
   "metadata": {},
   "outputs": [],
   "source": []
  },
  {
   "cell_type": "code",
   "execution_count": null,
   "id": "broke-teddy",
   "metadata": {},
   "outputs": [],
   "source": []
  }
 ],
 "metadata": {
  "kernelspec": {
   "display_name": "Python 3",
   "language": "python",
   "name": "python3"
  },
  "language_info": {
   "codemirror_mode": {
    "name": "ipython",
    "version": 3
   },
   "file_extension": ".py",
   "mimetype": "text/x-python",
   "name": "python",
   "nbconvert_exporter": "python",
   "pygments_lexer": "ipython3",
   "version": "3.7.1"
  },
  "toc": {
   "base_numbering": 1,
   "nav_menu": {},
   "number_sections": true,
   "sideBar": true,
   "skip_h1_title": false,
   "title_cell": "Table of Contents",
   "title_sidebar": "Contents",
   "toc_cell": false,
   "toc_position": {},
   "toc_section_display": true,
   "toc_window_display": false
  },
  "varInspector": {
   "cols": {
    "lenName": 16,
    "lenType": 16,
    "lenVar": 40
   },
   "kernels_config": {
    "python": {
     "delete_cmd_postfix": "",
     "delete_cmd_prefix": "del ",
     "library": "var_list.py",
     "varRefreshCmd": "print(var_dic_list())"
    },
    "r": {
     "delete_cmd_postfix": ") ",
     "delete_cmd_prefix": "rm(",
     "library": "var_list.r",
     "varRefreshCmd": "cat(var_dic_list()) "
    }
   },
   "types_to_exclude": [
    "module",
    "function",
    "builtin_function_or_method",
    "instance",
    "_Feature"
   ],
   "window_display": false
  }
 },
 "nbformat": 4,
 "nbformat_minor": 5
}
