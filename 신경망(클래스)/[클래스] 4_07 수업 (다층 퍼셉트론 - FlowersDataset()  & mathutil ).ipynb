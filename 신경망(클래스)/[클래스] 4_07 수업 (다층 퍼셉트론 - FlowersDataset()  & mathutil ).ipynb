{
 "cells": [
  {
   "cell_type": "markdown",
   "id": "generic-associate",
   "metadata": {},
   "source": [
    "### FlowersDataset() 클래스\n",
    "\n",
    "    꽃 이미지를 통해 새로운 데이터셋을 다루는 클래스"
   ]
  },
  {
   "cell_type": "markdown",
   "id": "integrated-hartford",
   "metadata": {},
   "source": [
    "#### Dataset() 클래스를 상속받기 위해 dataset.ipynb 를 실행"
   ]
  },
  {
   "cell_type": "code",
   "execution_count": null,
   "id": "subsequent-deployment",
   "metadata": {},
   "outputs": [],
   "source": [
    "import os\n",
    "\n",
    "os.chdir('C:\\\\Users\\\\gowra\\\\1_멋쟁이 사자처럼\\\\2. 신경망 기법\\\\신경망(클래스_프로그램_제작_프로젝트)/code/')"
   ]
  },
  {
   "cell_type": "code",
   "execution_count": null,
   "id": "offensive-sugar",
   "metadata": {
    "ExecuteTime": {
     "end_time": "2021-04-12T05:34:08.211517Z",
     "start_time": "2021-04-12T05:34:08.165637Z"
    },
    "scrolled": false
   },
   "outputs": [],
   "source": [
    "%run dataset.ipynb"
   ]
  },
  {
   "cell_type": "code",
   "execution_count": null,
   "id": "understanding-magnitude",
   "metadata": {
    "ExecuteTime": {
     "end_time": "2021-04-12T05:24:14.455100Z",
     "start_time": "2021-04-12T05:24:14.215708Z"
    }
   },
   "outputs": [],
   "source": [
    "class FlowersDataset(Dataset):\n",
    "    pass"
   ]
  },
  {
   "cell_type": "code",
   "execution_count": null,
   "id": "ranking-rental",
   "metadata": {
    "ExecuteTime": {
     "end_time": "2021-04-12T05:24:14.459056Z",
     "start_time": "2021-04-12T05:24:14.159Z"
    }
   },
   "outputs": [],
   "source": [
    "def flowers_init(self, resolution=[100, 100], input_shape=[-1]):\n",
    "    super(FlowersDataset, self).__init__('flowers', 'select')  # name, mode를 상속\n",
    "\n",
    "    path = 'flowers'  #  '../data/flowers' 데이터가 존재하는 폴더 경로\n",
    "    self.target_names = list_dir(path)  # list_dir 함수는 os.listdir(path)을 통과시켜.\n",
    "                                        # 하위 폴더의 이름들을 리스트로 저장하여 분류하고자 하는 target_name으로 저장\n",
    "\n",
    "    images = []\n",
    "    idxs = []\n",
    "\n",
    "    for dx, dname in enumerate(self.target_names): # dname에 target_nmae이 하나씩 들어가짐\n",
    "        subpath = path + '/' + dname   # target_name에 해당하는 폴더 경로 생성 '.../flower/rose'\n",
    "        filenames = list_dir(subpath)  # 현재 경로에 있는 하위 폴더이름을 리스트로 가져옴\n",
    "        for fname in filenames:   \n",
    "            if fname[-4:] != '.jpg':  # 이미지의 확장자가 .jpg가 아니면 pass\n",
    "                continue\n",
    "            imagepath = os.path.join(subpath, fname)  # 이미지 각각의 경로를 설정  '../flower/rose/이미지 이름'\n",
    "            pixels = load_image_pixels(imagepath, resolution, input_shape) # 이미지를 열어 사이즈를 [100,100]으로 조절하고 \n",
    "                                                                           # input_shape = [-1]를 넣어 3차원을 일차원으로 변환\n",
    "            images.append(pixels)  # 각각 이미지의 1차원 배열을 images에 저장시켜 준다.\n",
    "            idxs.append(dx) # 각 이미지의 인덱스 값을 idxs에 저장 (종속변수로 쓸 예정)\n",
    "\n",
    "    self.image_shape = resolution + [3] # [100,100,3]으로 이미지의 형상으로 만들때 사용\n",
    "\n",
    "    xs = np.asarray(images, np.float32) # 독립변수들이 담겨있는 images 리스트를 배열로 만들어줌\n",
    "    ys = onehot(idxs, len(self.target_names))  #idxs의 리스트를 target_name의 크기로 된 원핫인코딩을 해준다. 종속변수의 값을 만들어줌\n",
    "\n",
    "    self.shuffle_data(xs, ys, 0.8) # train을 80% 로 잠고 데이터를 무작위로 섞어줌\n",
    "\n",
    "\n",
    "FlowersDataset.__init__ = flowers_init   # 초기화 메서드도 외부에서 가져올 수 있다.\n"
   ]
  },
  {
   "cell_type": "code",
   "execution_count": null,
   "id": "varied-agreement",
   "metadata": {
    "ExecuteTime": {
     "end_time": "2021-04-12T05:24:14.461051Z",
     "start_time": "2021-04-12T05:24:14.163Z"
    }
   },
   "outputs": [],
   "source": [
    "import os\n",
    "f =  os.path.join('a', 'b')\n",
    "f"
   ]
  },
  {
   "cell_type": "markdown",
   "id": "collective-exemption",
   "metadata": {},
   "source": [
    "    __init__초기화 메서드를 정의하는 단계입니다. \n",
    "    파일의 이미지를 불러오고 약간의 이미지 크기를 조정한 후에, \n",
    "    다층 퍼셉트론의 입력값으로 사용하기 위해 3차원의 이미지 형태를 1차원의 벡터로 변환하는 과정입니다. \n",
    "\n",
    "    Dataset() 클래스 상속을 위한 초기화 메서드를 정의합니다. \n",
    "    다중 선택 분류로 문제를 해결하기 위해 'select' 으로 mode를 설정\n",
    "\n",
    "    전체 데이터가 들어있는 'flowers' 파일에 각 꽃 별로 다시 파일이 나눠지게 됩니다. \n",
    "    다중 선택 분류에 있어 이 점을 활용하면 쉽게 정답 라벨을 설정할 수 있습니다. \n",
    "    방법은 list_dir() 메서드에 전체 파일 들어있는 'flowers' 폴더명을 입력\n",
    "    그럼 list_dir() 메서드 내부에서는 폴더 내부에 있는 하위 폴더명들을 리스트로 저장하여 반환\n",
    "    결국 list_dir()메서드로 부터 얻어진 꽃 이름들은 self.target_names에 저장되어 활용"
   ]
  },
  {
   "cell_type": "markdown",
   "id": "veterinary-atmosphere",
   "metadata": {},
   "source": [
    "    다음은 파일을 불러오는 과정입니다. \n",
    "    이 과정을 수행하기 위해 자신의 경로, 실제 이미지파일의 저장 경로, 확장자 등을 확인하고 코드를 작성하는 것이 좋습니다.\n",
    "\n",
    "    이미지를 읽어오는 과정은 self.target_names에 저장된 각 하위 폴더의 이름을 기준으로 인덱스는 dx, 이름은 dname에 할당하고,\n",
    "    path 하위 폴더인 꽃 이름의 폴더들은 subpath에 저장하여 줍니다. \n",
    "\n",
    "    그리고 subpath에  들어있는 이미지 파일들은 list_dir()를 통해 모든 파일 이름들을  filenames에 리스트로 저장하여 줍니다.\n",
    "    그런데 이미지 파일에는 jpg, png 등 다양한 확장자가 존재합니다. \n",
    "    이러한  확장자를 고려하지 않는 설계는 분명 문제가 발생하게 됩니다. \n",
    "    그래서 우리의 프로그램은 jpg 확장자만을 활용하도록 하겠습니다. \n",
    "\n",
    "    이를 제어하기 위해서는 반복 제어문 continue를 활용하여 마지막 인덱스와 '.jpg' 가 같지 않는 경우가 '참' 이라면 \n",
    "    다시 반복문으로 올라가도록 하여 확장자 문제를 제거 합니다.\n",
    "\n",
    "    이제 subpath와 fname을 결합하여 파일 경로와 파일의 이름을 하나의 변수로 만들어 주고 \n",
    "    이를 load_image_pixels()메서드에 매개 변수로 할당하여 줍니다. \n",
    "\n",
    "    load_image_pixels() 메서드는 3차원 이미지 파일을 다층 퍼셉트론 연산을 위해 1차원 벡터로 변환하여 줍니다. \n",
    "    그리고 그 값을  pixels에 저장하여 주도록 합니다. \n",
    "    그럼 2중 반복문이 모두 돌게되면  images 변수에는 모든 꽃 폴더마다의 꽃 사진들이 1차원 벡터형식으로 저장되어 있게 됩니다. \n",
    "    더불어 이후에 원 핫 벡터 처리에 사용할 인덱스도 idxs에 저장하여 주겠습니다.\n"
   ]
  },
  {
   "cell_type": "markdown",
   "id": "infinite-martin",
   "metadata": {},
   "source": [
    "    다음은 시각화 메서드로 이미지 출력을 수행하기 위해 3차원의 정보가 필요하게 되는데, \n",
    "    이미지 크기값을 가지고 있는 resolution에 이미지의 채널값을 의미하는 [3] 을 더하여 \n",
    "    image_shape에 [100,100,3] 값을 저장해  주도록 하겠습니다.\n",
    "\n",
    "    이제 이미지를 불러오고 처리하는 모든과정이 끝이 났기에 이들을 묶어서 각각 입출력 벡터 형식에 맞춰 다시 저장을 수행\n",
    "    마지막으로 shuffle_data() 메서드를 통해 학습/검증/평가 데이터로 나눠  주었습니다.\n"
   ]
  },
  {
   "cell_type": "markdown",
   "id": "recognized-chassis",
   "metadata": {},
   "source": [
    "#### 시각화"
   ]
  },
  {
   "cell_type": "code",
   "execution_count": null,
   "id": "expired-presence",
   "metadata": {
    "ExecuteTime": {
     "end_time": "2021-04-12T05:24:14.462049Z",
     "start_time": "2021-04-12T05:24:14.325Z"
    }
   },
   "outputs": [],
   "source": [
    "def flowers_visualize(self, xs, estimates, answers):\n",
    "    draw_images_horz(xs, self.image_shape)\n",
    "    show_select_results(estimates, answers, self.target_names)\n",
    "\n",
    "\n",
    "FlowersDataset.visualize = flowers_visualize"
   ]
  },
  {
   "cell_type": "markdown",
   "id": "brilliant-greece",
   "metadata": {},
   "source": [
    "    앞에서 사용된 show_select_results()가 그대로 사용되지만 \n",
    "    실제 이미지를 출력하는 draw_images_horz() 메서드도 함께 수행되어 지며 \n",
    "    대상 데이터의 이미지를 가로 방향으로 나열하여 보여주게 됩니다"
   ]
  },
  {
   "cell_type": "code",
   "execution_count": null,
   "id": "chubby-hamburg",
   "metadata": {},
   "outputs": [],
   "source": []
  },
  {
   "cell_type": "markdown",
   "id": "opening-soccer",
   "metadata": {},
   "source": [
    "### mathutil\n",
    "    각종 연산에 사용되는 함수와 이미지 출력, 문자열 출력 등의 부수적 기능"
   ]
  },
  {
   "cell_type": "code",
   "execution_count": null,
   "id": "separate-queue",
   "metadata": {
    "ExecuteTime": {
     "end_time": "2021-04-12T05:24:14.463046Z",
     "start_time": "2021-04-12T05:24:14.378Z"
    }
   },
   "outputs": [],
   "source": [
    "import numpy as np  import time\n",
    "import os  import csv\n",
    "import matplotlib.pyplot as plt\n",
    "\n",
    "from PIL import Image"
   ]
  },
  {
   "cell_type": "markdown",
   "id": "compound-warrior",
   "metadata": {},
   "source": [
    "    배열 연산을 지원하는 numpy, \n",
    "    학습과 테스트 등 소요 시간 측정을 위한 time, \n",
    "    파일 경로를 순회하기 위한 os, \n",
    "    데이터셋을 불러오기 위한 csv, \n",
    "    마지막으로  plt와 Image는 이미지 처리를 위해 사용"
   ]
  },
  {
   "cell_type": "code",
   "execution_count": null,
   "id": "dedicated-duplicate",
   "metadata": {},
   "outputs": [],
   "source": []
  },
  {
   "cell_type": "markdown",
   "id": "random-coordinate",
   "metadata": {},
   "source": [
    "#### 활성화 함수"
   ]
  },
  {
   "cell_type": "markdown",
   "id": "marked-modern",
   "metadata": {},
   "source": [
    "##### tanh(x)"
   ]
  },
  {
   "cell_type": "markdown",
   "id": "happy-tours",
   "metadata": {},
   "source": [
    "![](https://mblogthumb-phinf.pstatic.net/MjAyMDAyMjVfMTk0/MDAxNTgyNjA3NzcyOTI3.Oc7diAw06G0vb-b86Wp5O-sy2Oa_bHHZnxnc2ASFYjAg.0dxRIz0WS3xkT51tlC8Yl1w_pDDRWynAaCX4NzxIq3Eg.PNG.handuelly/image.png?type=w800)"
   ]
  },
  {
   "cell_type": "markdown",
   "id": "latest-stationery",
   "metadata": {},
   "source": [
    "![](https://mlnotebook.github.io/img/transferFunctions/tanh.png)"
   ]
  },
  {
   "cell_type": "markdown",
   "id": "accomplished-aggregate",
   "metadata": {},
   "source": [
    "![](https://mlnotebook.github.io/img/transferFunctions/dtanh.png)"
   ]
  },
  {
   "cell_type": "code",
   "execution_count": null,
   "id": "caring-domain",
   "metadata": {
    "ExecuteTime": {
     "end_time": "2021-04-12T05:24:14.582765Z",
     "start_time": "2021-04-12T05:24:14.566767Z"
    }
   },
   "outputs": [],
   "source": [
    "def tanh(x):\n",
    "    return 1 - 2 * sigmoid(2*x)\n",
    "\n",
    "def tanh_derv(y):  # y는 tanh(x)를 의미\n",
    "    return (1.0 + y) * (1.0 - y)"
   ]
  },
  {
   "cell_type": "markdown",
   "id": "copyrighted-motorcycle",
   "metadata": {},
   "source": [
    "    하이퍼볼릭 탄젠트의 범위는 [−1,1]입니다. \n",
    "    그래프의 모양은 시그모이드 함수와는 달리 0을 기준으로 대칭인 점을 확인할 수 있습니다. \n",
    "    이 때문에 하이퍼볼릭 탄젠트는 시그모이드를 활성화함수로 썼을 때보다 학습 수렴 속도가 빠릅니다\n",
    "    \n",
    "    시그모이드함수와 마찬가지로 x가 -5보다 작거나 5보다 크면 그래디언트가 0으로 작아지는 점을 볼 수 있다"
   ]
  },
  {
   "cell_type": "markdown",
   "id": "gorgeous-oxide",
   "metadata": {
    "ExecuteTime": {
     "end_time": "2021-04-08T02:09:45.943153Z",
     "start_time": "2021-04-08T02:09:45.681441Z"
    }
   },
   "source": [
    "##### sigmoid(x)"
   ]
  },
  {
   "cell_type": "code",
   "execution_count": null,
   "id": "chinese-boxing",
   "metadata": {
    "ExecuteTime": {
     "end_time": "2021-04-12T05:24:14.614680Z",
     "start_time": "2021-04-12T05:24:14.585719Z"
    }
   },
   "outputs": [],
   "source": [
    "def sigmoid(x):\n",
    "    return np.exp(-relu(-x)) / (1.0 + np.exp(-np.abs(x)))\n",
    "        \n",
    "def sigmoid_derv(y):\n",
    "    return y * (1 - y)\n",
    "\n",
    "def sigmoid_cross_entropy_with_logits(z, x):\n",
    "    return relu(x) - x * z + np.log(1 + np.exp(-np.abs(x)))\n",
    "\n",
    "def sigmoid_cross_entropy_with_logits_derv(z, x):\n",
    "    return -z + sigmoid(x)"
   ]
  },
  {
   "cell_type": "markdown",
   "id": "centered-double",
   "metadata": {},
   "source": [
    "##### ReLU(x)"
   ]
  },
  {
   "cell_type": "code",
   "execution_count": null,
   "id": "after-trader",
   "metadata": {
    "ExecuteTime": {
     "end_time": "2021-04-12T05:24:14.630634Z",
     "start_time": "2021-04-12T05:24:14.620626Z"
    }
   },
   "outputs": [],
   "source": [
    "def relu(x):\n",
    "    return np.maximum(x, 0)\n",
    "\n",
    "def relu_derv(y):\n",
    "    return np.sign(y)"
   ]
  },
  {
   "cell_type": "markdown",
   "id": "selected-outline",
   "metadata": {},
   "source": [
    "#### softmax(x)"
   ]
  },
  {
   "cell_type": "code",
   "execution_count": null,
   "id": "matched-failure",
   "metadata": {
    "ExecuteTime": {
     "end_time": "2021-04-12T05:24:14.662512Z",
     "start_time": "2021-04-12T05:24:14.652540Z"
    }
   },
   "outputs": [],
   "source": [
    "def softmax(x):\n",
    "    max_elem = np.max(x, axis=1)\n",
    "    diff = (x.transpose() - max_elem).transpose()\n",
    "    exp = np.exp(diff)\n",
    "    sum_exp = np.sum(exp, axis=1)\n",
    "    probs = (exp.transpose() / sum_exp).transpose()\n",
    "    return probs\n",
    "\n",
    "def softmax_cross_entropy_with_logits(labels, logits):\n",
    "    probs = softmax(logits)\n",
    "    return -np.sum(labels * np.log(probs+1.0e-10), axis=1)\n",
    "\n",
    "def softmax_cross_entropy_with_logits_derv(labels, logits):\n",
    "    return softmax(logits) - labels"
   ]
  },
  {
   "cell_type": "code",
   "execution_count": null,
   "id": "distinguished-hypothesis",
   "metadata": {},
   "outputs": [],
   "source": []
  },
  {
   "cell_type": "markdown",
   "id": "sophisticated-emerald",
   "metadata": {},
   "source": [
    "#### 각종 파일을 불러왔던 load_csv()함수"
   ]
  },
  {
   "cell_type": "markdown",
   "id": "human-slovenia",
   "metadata": {},
   "source": [
    "    헤더 정보가 있는 경우에 그 값을 header에 저장하여 따로 보관처리하는 과정만 추가되었습니다. \n",
    "    이 헤더 정보는 정답 라벨을 구하는데 사용"
   ]
  },
  {
   "cell_type": "code",
   "execution_count": null,
   "id": "sensitive-mileage",
   "metadata": {
    "ExecuteTime": {
     "end_time": "2021-04-12T05:24:14.726341Z",
     "start_time": "2021-04-12T05:24:14.713376Z"
    }
   },
   "outputs": [],
   "source": [
    "def load_csv(path, skip_header=True):\n",
    "    with open(path) as csvfile:\n",
    "        csvreader = csv.reader(csvfile)\n",
    "        headers = None\n",
    "        # header가 있는 경우\n",
    "        if skip_header: headers = next(csvreader, None)\n",
    "        rows = [] # 버퍼를 옮기기 위한 객체\n",
    "        for row in csvreader:\n",
    "            rows.append(row)\n",
    "            \n",
    "    return rows, headers  # 불러 들어온 모든 데이터와 headers = 저답 라벨을 구하는데 사용벨을 구하는데 사용 "
   ]
  },
  {
   "cell_type": "markdown",
   "id": "alternative-server",
   "metadata": {},
   "source": [
    "#### 원-핫 벡터"
   ]
  },
  {
   "cell_type": "markdown",
   "id": "constant-wellington",
   "metadata": {},
   "source": [
    "    이 함수의 경우 pulsar 데이터셋과 flowers 이미지 데이터셋에서 사용\n",
    "    단순히 입력으로 들어오는 xs를 cnt 크기에 맞춰 원-핫 벡터 표현으로 바꿔주는 것"
   ]
  },
  {
   "cell_type": "code",
   "execution_count": null,
   "id": "introductory-listing",
   "metadata": {
    "ExecuteTime": {
     "end_time": "2021-04-12T05:24:14.790171Z",
     "start_time": "2021-04-12T05:24:14.784186Z"
    }
   },
   "outputs": [],
   "source": [
    "def onehot(xs, cnt):\n",
    "    return np.eye(cnt)[np.array(xs).astype(int)]"
   ]
  },
  {
   "cell_type": "markdown",
   "id": "focused-exhibit",
   "metadata": {},
   "source": [
    "    np.eye()는 대괄호로 원-핫 벡터를 제어할 수 가 있는데, 예를들어 pulsar 데이터의 종속 변수인 이진 분류가 할당되어지면, \n",
    "    그림과 같이 이진 분류의 값이 원-핫 벡터로 표현되어 지게 됩니다. \n",
    "\n",
    "    꽃 이미지의 경우 xs 는 앞서 구한 idxs 가 할당되어 지는데, \n",
    "    이중 반복문을 통해 꽃 이름 폴더마다 각각의 모든 파일들에 대한 dx 값 들이 모두 xs 에 할당되게 됩니다. \n",
    "\n",
    "    cnt의 경우 len(self.target_names) 값이 할당\n",
    "\n",
    "    그리고 간혹 xs가 정수형 배열이 아닌 경우가 생길 수도 있습니다. \n",
    "    그래서 이러한 형식이 복잡하게 ♘히다 보면 문제가 생길 가능성이 생기므로 이러한 문제를 원천 차단하고자 형변환들을 무조건 수행"
   ]
  },
  {
   "cell_type": "markdown",
   "id": "molecular-score",
   "metadata": {},
   "source": [
    "#### 검증 데이터를 입력 벡터로 받아 출력을 수행"
   ]
  },
  {
   "cell_type": "code",
   "execution_count": null,
   "id": "answering-radical",
   "metadata": {
    "ExecuteTime": {
     "end_time": "2021-04-12T05:24:14.869976Z",
     "start_time": "2021-04-12T05:24:14.854033Z"
    }
   },
   "outputs": [],
   "source": [
    "def vector_to_str(x, fmt='%.2f', max_cnt=0):\n",
    "    if max_cnt == 0 or len(x) <= max_cnt:  # 독립변수의 수가 많지 않을 때\n",
    "        return '[' + ','.join([fmt]*len(x)) % tuple(x) + ']' \n",
    "    v = x[0:max_cnt]  #독립변수의 수가 많을 때(많이 사용 됨)\n",
    "    return '[' + ','.join([fmt]*len(v)) % tuple(v) + ',...]'\n",
    "\n",
    "# x라는 값을 tuple을 통과 시키고 그 값을 fmt[]에 넣어 규격을 맞추고 len(x)를 곱해 데이터의 수만큼 준비해주고\n",
    "#  .join 앞의 구분자를 통해 변수들을 출력"
   ]
  },
  {
   "cell_type": "markdown",
   "id": "impossible-fusion",
   "metadata": {},
   "source": [
    "    이 과정에서 입력 벡터의 변수가 너무 많은 경우가 발생할 수 있습니다.  \n",
    "\n",
    "    max_cnt 라는 매개변수를 지정하여 이 값보다 작다면 입력 변수들을 모두 출력하고,\n",
    "    max_cnt보다 크다면 max_cnt 크기만큼만 출력하도록 설계합니다. \n",
    "\n",
    "    하지만 간혹 모든 변수를 출력해야 할 수도 있으므로 max_cnt가 0 이라면 모든 변수를 출력하도록 합니다.\n",
    "\n",
    "    여기서 ','.join([fmt]*len(v)) % tuple(v) 는 join() 안에 출력 포멧팅과 출력하고자 하는 변수의 개수(len(x))를 넣고.\n",
    "    % tuple()에 출력하고자 하는 변수를 넣어 .join 앞의 구분자를 통해 변수들을 출력할 수 있게 합니다.\n",
    "    여기서 %는 연결시켜주는 역할을 한다. \n"
   ]
  },
  {
   "cell_type": "markdown",
   "id": "environmental-charge",
   "metadata": {},
   "source": [
    "#### 3차원 이미지를 1차원 벡터로 전환"
   ]
  },
  {
   "cell_type": "code",
   "execution_count": null,
   "id": "greater-operations",
   "metadata": {
    "ExecuteTime": {
     "end_time": "2021-04-12T05:24:14.932788Z",
     "start_time": "2021-04-12T05:24:14.914837Z"
    }
   },
   "outputs": [],
   "source": [
    "def load_image_pixels(imagepath, resolution, input_shape):\n",
    "    img = Image.open(imagepath)  # 이미지를 열어주는 함수\n",
    "    resized = img.resize(resolution) # 이미지의 사이즈를 조정해줌\n",
    "    return np.array(resized).reshape(input_shape)\n"
   ]
  },
  {
   "cell_type": "markdown",
   "id": "obvious-freedom",
   "metadata": {},
   "source": [
    "    다층 퍼셉트론 연산을 수행하기 위하여 이미지를 그대로 사용하지 못하는 문제점을 해결하고자 설계되었으며, \n",
    "    실제 다양한 크기의 이미지를 통일된 크기로 전환하는 역할 또한 수행\n",
    "\n",
    "    이미지를 받아 resolution 매개변수의 크기에 맞춰 크기를 조정\n",
    "\n",
    "    차원 [100,100,3] 크기를 갖는 이미지를 1차원 [30000] 크기를 갖는 벡터 형식으로 전환하여 줍니다. \n",
    "    이 과정에서 reshape()에 [-1]을 넣어주게 되면 1차원 배열을 반환하게 됩니다.\n"
   ]
  },
  {
   "cell_type": "markdown",
   "id": "sharp-stress",
   "metadata": {},
   "source": [
    "#### 이미지를 출력하는 함수"
   ]
  },
  {
   "cell_type": "code",
   "execution_count": null,
   "id": "direct-minimum",
   "metadata": {
    "ExecuteTime": {
     "end_time": "2021-04-12T05:24:14.979663Z",
     "start_time": "2021-04-12T05:24:14.971686Z"
    }
   },
   "outputs": [],
   "source": [
    "def draw_images_horz(xs, image_shape=None):\n",
    "    show_cnt = len(xs)  # 1차원 이미지 train 데이터의 크기만큼 cnt를 가져옴\n",
    "    fig, axes = plt.subplots(1, show_cnt, figsize=(5, 5)) # 행과 열의 수를 지정해준다.\n",
    "    for n in range(show_cnt):\n",
    "        img = xs[n]\n",
    "        if image_shape:\n",
    "            x3d = img.reshape(image_shape)  # 이미지의 shape를 3차원 배열로 다시 돌려준다.\n",
    "            img = Image.fromarray(np.uint8(x3d)) # 배열의 값을 실제 이미지로 변환시켜주는 코드\n",
    "        axes[n].imshow(img) # 이미지를 보여주는 코드\n",
    "        axes[n].axis('off') # 축을 보여줄건지 설정하는 코드\n",
    "    plt.draw() # 데이터를 전처리하고 이미지를 그대로 받아오는게 아니기 때문에 확실히 하기 위해 사용\n",
    "    plt.show() # 근데 둘 중 하나만 써도 상관없다."
   ]
  },
  {
   "cell_type": "markdown",
   "id": "increasing-campbell",
   "metadata": {},
   "source": [
    "    출력을 한줄 가로로 출력하  고자 하였으니 plt.subplots(1, show_cnt)로 설정\n",
    "\n",
    "    반복문을 통해 이미지 파일을 하나씩 받아와 줍니다\n",
    "\n",
    "    reshape()를 통해 [100,100,3]로 변환하며, 이러한 넘파이 배열을 np.fromarray() 를 통해 다시 이미지로 바꿔 출력\n",
    "    ※ np.unit8() : 0 ~ 255 값 표현\n"
   ]
  },
  {
   "cell_type": "markdown",
   "id": "assured-convert",
   "metadata": {},
   "source": [
    "#### 다중 선택 분류를 위한 결과 출력 기능"
   ]
  },
  {
   "cell_type": "code",
   "execution_count": null,
   "id": "animated-intersection",
   "metadata": {
    "ExecuteTime": {
     "end_time": "2021-04-12T05:24:15.042497Z",
     "start_time": "2021-04-12T05:24:15.027537Z"
    },
    "code_folding": []
   },
   "outputs": [],
   "source": [
    "# 다중분류 visualize\n",
    "def show_select_results(est, ans, target_names, max_cnt=0):\n",
    "    for n in range(len(est)):\n",
    "        pstr = vector_to_str(100*est[n], '%2.0f', max_cnt)\n",
    "        estr = target_names[np.argmax(est[n])]\n",
    "        astr = target_names[np.argmax(ans[n])]\n",
    "        rstr = 'O'\n",
    "        if estr != astr: rstr = 'X'\n",
    "        print('추정확률분포 {} => 추정 {} : 정답 {} => {}'. \\\n",
    "              format(pstr, estr, astr, rstr))"
   ]
  },
  {
   "cell_type": "markdown",
   "id": "continental-democracy",
   "metadata": {},
   "source": [
    "    출력으로는 다수의 변수들이 갖는 추정확률분포값, 가장 높은 확률  값을 갖는 변수, 실제 정답, 비교 결과 \n",
    "\n",
    "    vector_to_str()에 들어오는 est[n] 추정확률값에 100을 곱해주는 이유는 조금 더 쉽게 신경망의 예측값에 따른 비교 분석을 수행하기 위해서\n",
    "\n"
   ]
  },
  {
   "cell_type": "markdown",
   "id": "crucial-poster",
   "metadata": {},
   "source": [
    "#### 입력되어진 경로 속에 있는 꽃 이름의 폴더명들을 출력"
   ]
  },
  {
   "cell_type": "code",
   "execution_count": null,
   "id": "steady-delicious",
   "metadata": {
    "ExecuteTime": {
     "end_time": "2021-04-12T05:24:15.089878Z",
     "start_time": "2021-04-12T05:24:15.084892Z"
    }
   },
   "outputs": [],
   "source": [
    "def list_dir(path):\n",
    "    filenames = os.listdir(path)\n",
    "    filenames.sort()\n",
    "    return filenames"
   ]
  },
  {
   "cell_type": "markdown",
   "id": "atlantic-funds",
   "metadata": {},
   "source": [
    "    os 모듈의 listdir()을 활용하여 path로 저장되어 있는 경로를 받아 그 경로 속에 있는 꽃 이름파일들을 filenames에 저장합니다. \n",
    "    그리고 sort()를 통해 정렬을 수행 후 출력을 수행"
   ]
  },
  {
   "cell_type": "code",
   "execution_count": null,
   "id": "outdoor-fossil",
   "metadata": {},
   "outputs": [],
   "source": []
  }
 ],
 "metadata": {
  "kernelspec": {
   "display_name": "Python 3",
   "language": "python",
   "name": "python3"
  },
  "language_info": {
   "codemirror_mode": {
    "name": "ipython",
    "version": 3
   },
   "file_extension": ".py",
   "mimetype": "text/x-python",
   "name": "python",
   "nbconvert_exporter": "python",
   "pygments_lexer": "ipython3",
   "version": "3.7.1"
  },
  "toc": {
   "base_numbering": 1,
   "nav_menu": {},
   "number_sections": true,
   "sideBar": true,
   "skip_h1_title": false,
   "title_cell": "Table of Contents",
   "title_sidebar": "Contents",
   "toc_cell": false,
   "toc_position": {},
   "toc_section_display": true,
   "toc_window_display": false
  },
  "varInspector": {
   "cols": {
    "lenName": 16,
    "lenType": 16,
    "lenVar": 40
   },
   "kernels_config": {
    "python": {
     "delete_cmd_postfix": "",
     "delete_cmd_prefix": "del ",
     "library": "var_list.py",
     "varRefreshCmd": "print(var_dic_list())"
    },
    "r": {
     "delete_cmd_postfix": ") ",
     "delete_cmd_prefix": "rm(",
     "library": "var_list.r",
     "varRefreshCmd": "cat(var_dic_list()) "
    }
   },
   "types_to_exclude": [
    "module",
    "function",
    "builtin_function_or_method",
    "instance",
    "_Feature"
   ],
   "window_display": false
  }
 },
 "nbformat": 4,
 "nbformat_minor": 5
}
