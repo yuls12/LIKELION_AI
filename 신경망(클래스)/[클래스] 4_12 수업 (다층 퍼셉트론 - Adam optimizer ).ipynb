{
 "cells": [
  {
   "cell_type": "markdown",
   "id": "administrative-clerk",
   "metadata": {},
   "source": [
    "mlp_model을 불러온다."
   ]
  },
  {
   "cell_type": "code",
   "execution_count": 4,
   "id": "endless-electricity",
   "metadata": {
    "ExecuteTime": {
     "end_time": "2021-04-12T07:49:36.158151Z",
     "start_time": "2021-04-12T07:49:36.144188Z"
    }
   },
   "outputs": [],
   "source": [
    "import os\n",
    "\n",
    "os.chdir('C:\\\\Users\\\\gowra\\\\1_멋쟁이 사자처럼\\\\2. 신경망 기법\\\\신경망(클래스_프로그램_제작_프로젝트)/code/')"
   ]
  },
  {
   "cell_type": "code",
   "execution_count": 5,
   "id": "ideal-selection",
   "metadata": {
    "ExecuteTime": {
     "end_time": "2021-04-12T07:49:37.413612Z",
     "start_time": "2021-04-12T07:49:36.603188Z"
    },
    "scrolled": true
   },
   "outputs": [],
   "source": [
    "%run mlp_model.ipynb"
   ]
  },
  {
   "cell_type": "markdown",
   "id": "active-fancy",
   "metadata": {},
   "source": [
    "    클래스만 정의한 후 메서드는 외부에서 정의하는 형태로 진행할"
   ]
  },
  {
   "cell_type": "markdown",
   "id": "buried-apartment",
   "metadata": {},
   "source": [
    "    아담 알고리즘의 적용 여부에 따른 성능 관찰을 위해 사용 여부를 나타내는 플래그값 (self.use_adam) 을 초기화__init__ 메서드에서 설정하여"
   ]
  },
  {
   "cell_type": "code",
   "execution_count": 6,
   "id": "suitable-sessions",
   "metadata": {
    "ExecuteTime": {
     "end_time": "2021-04-12T07:49:38.673338Z",
     "start_time": "2021-04-12T07:49:38.667354Z"
    }
   },
   "outputs": [],
   "source": [
    "class AdamModel(MlpModel):\n",
    "    def __init__(self, name, dataset, hconfigs):\n",
    "        self.use_adam = False\n",
    "        super(AdamModel, self).__init__(name, dataset, hconfigs)"
   ]
  },
  {
   "cell_type": "code",
   "execution_count": 7,
   "id": "reported-publicity",
   "metadata": {
    "ExecuteTime": {
     "end_time": "2021-04-12T07:49:39.195114Z",
     "start_time": "2021-04-12T07:49:39.178157Z"
    }
   },
   "outputs": [],
   "source": [
    "def adam_backprop_layer(self, G_y, hconfig, pm, aux):\n",
    "    x, y = aux\n",
    "    \n",
    "    if hconfig is not None: G_y = relu_derv(y) * G_y\n",
    "    \n",
    "    g_y_weight = x.transpose()\n",
    "    g_y_input = pm['w'].transpose()\n",
    "    \n",
    "    G_weight = np.matmul(g_y_weight, G_y)\n",
    "    G_bias = np.sum(G_y, axis=0)\n",
    "    G_input = np.matmul(G_y, g_y_input)\n",
    "    \n",
    "    self.update_param(pm, 'w',  G_weight)\n",
    "    self.update_param(pm, 'b',  G_bias)\n",
    "\n",
    "    return G_input\n",
    "\n",
    "AdamModel.backprop_layer = adam_backprop_layer"
   ]
  },
  {
   "cell_type": "code",
   "execution_count": 8,
   "id": "delayed-scholar",
   "metadata": {
    "ExecuteTime": {
     "end_time": "2021-04-12T07:49:39.586993Z",
     "start_time": "2021-04-12T07:49:39.570996Z"
    }
   },
   "outputs": [],
   "source": [
    "def adam_update_param(self, pm, key, delta):\n",
    "    if self.use_adam:\n",
    "        delta = self.eval_adam_delta(pm, key, delta)\n",
    "    \n",
    "    pm[key] -= self.learning_rate * delta\n",
    "        \n",
    "AdamModel.update_param = adam_update_param"
   ]
  },
  {
   "cell_type": "code",
   "execution_count": 9,
   "id": "organic-upset",
   "metadata": {
    "ExecuteTime": {
     "end_time": "2021-04-12T07:49:39.962029Z",
     "start_time": "2021-04-12T07:49:39.947025Z"
    }
   },
   "outputs": [],
   "source": [
    "def adam_eval_adam_delta(self, pm, key, delta):\n",
    "    ro_1 = 0.9\n",
    "    ro_2 = 0.999\n",
    "    epsilon = 1.0e-8\n",
    "    \n",
    "    vkey, gkey, step = 'v' + key, 'g' + key, 'n' + key\n",
    "    if skey not in pm:\n",
    "        pm[vkey] = np.zeros(pm[key].shape)\n",
    "        pm[gkey] = np.zeros(pm[key].shape)\n",
    "        pm[step] = 0\n",
    "        \n",
    "    s = pm[vkey] = ro_1 * pm[vkey] + (1 - ro_1) * delta\n",
    "    t = pm[gkey] = ro_2 * pm[gkey] + (1 - ro_2) * (delta * delta)\n",
    "    \n",
    "    pm[step] += 1\n",
    "    v = v / (1 - np.power(ro_1, pm[step]))\n",
    "    g = g / (1 - np.power(ro_2, pm[step]))\n",
    "    \n",
    "    return v / (np.sqrt(g)+epsilon)\n",
    "\n",
    "AdamModel.eval_adam_delta = adam_eval_adam_delta"
   ]
  },
  {
   "cell_type": "code",
   "execution_count": null,
   "id": "otherwise-costa",
   "metadata": {},
   "outputs": [],
   "source": []
  },
  {
   "cell_type": "code",
   "execution_count": null,
   "id": "facial-hydrogen",
   "metadata": {},
   "outputs": [],
   "source": []
  },
  {
   "cell_type": "code",
   "execution_count": null,
   "id": "bulgarian-representation",
   "metadata": {},
   "outputs": [],
   "source": []
  }
 ],
 "metadata": {
  "kernelspec": {
   "display_name": "Python 3",
   "language": "python",
   "name": "python3"
  },
  "language_info": {
   "codemirror_mode": {
    "name": "ipython",
    "version": 3
   },
   "file_extension": ".py",
   "mimetype": "text/x-python",
   "name": "python",
   "nbconvert_exporter": "python",
   "pygments_lexer": "ipython3",
   "version": "3.7.1"
  },
  "toc": {
   "base_numbering": 1,
   "nav_menu": {},
   "number_sections": true,
   "sideBar": true,
   "skip_h1_title": false,
   "title_cell": "Table of Contents",
   "title_sidebar": "Contents",
   "toc_cell": false,
   "toc_position": {},
   "toc_section_display": true,
   "toc_window_display": false
  },
  "varInspector": {
   "cols": {
    "lenName": 16,
    "lenType": 16,
    "lenVar": 40
   },
   "kernels_config": {
    "python": {
     "delete_cmd_postfix": "",
     "delete_cmd_prefix": "del ",
     "library": "var_list.py",
     "varRefreshCmd": "print(var_dic_list())"
    },
    "r": {
     "delete_cmd_postfix": ") ",
     "delete_cmd_prefix": "rm(",
     "library": "var_list.r",
     "varRefreshCmd": "cat(var_dic_list()) "
    }
   },
   "types_to_exclude": [
    "module",
    "function",
    "builtin_function_or_method",
    "instance",
    "_Feature"
   ],
   "window_display": false
  }
 },
 "nbformat": 4,
 "nbformat_minor": 5
}
