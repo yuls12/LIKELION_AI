{
 "cells": [
  {
   "cell_type": "markdown",
   "id": "front-parade",
   "metadata": {},
   "source": [
    "#### Kkma 형태소 분석기"
   ]
  },
  {
   "cell_type": "code",
   "execution_count": 1,
   "id": "informational-consultation",
   "metadata": {
    "ExecuteTime": {
     "end_time": "2021-04-19T06:38:22.497794Z",
     "start_time": "2021-04-19T06:38:20.342674Z"
    }
   },
   "outputs": [],
   "source": [
    "from konlpy.tag import Kkma\n",
    "\n",
    "kkma = Kkma()\n",
    "text = '아버지가 방에 들어갑니다'"
   ]
  },
  {
   "cell_type": "code",
   "execution_count": 2,
   "id": "occupational-harris",
   "metadata": {
    "ExecuteTime": {
     "end_time": "2021-04-19T06:38:35.820333Z",
     "start_time": "2021-04-19T06:38:24.448706Z"
    }
   },
   "outputs": [
    {
     "name": "stdout",
     "output_type": "stream",
     "text": [
      "['아버지', '가', '방', '에', '들어가', 'ㅂ니다']\n"
     ]
    }
   ],
   "source": [
    "#형태소 추출\n",
    "morphs = kkma.morphs(text)  # ① text 변수에 저장된 문장을 형태소 단위로 토크나이징 합니다.  \n",
    "                            # 토크나이징된 형태소들은 리스트 형태로 반환 됩니다.\n",
    "\n",
    "print(morphs)\n"
   ]
  },
  {
   "cell_type": "code",
   "execution_count": 3,
   "id": "loving-stress",
   "metadata": {
    "ExecuteTime": {
     "end_time": "2021-04-19T06:38:39.960481Z",
     "start_time": "2021-04-19T06:38:39.898382Z"
    }
   },
   "outputs": [
    {
     "name": "stdout",
     "output_type": "stream",
     "text": [
      "[('아버지', 'NNG'), ('가', 'JKS'), ('방', 'NNG'), ('에', 'JKM'), ('들어가', 'VV'), ('ㅂ니다', 'EFN')]\n"
     ]
    }
   ],
   "source": [
    "#형태소와 품사 태그 추출  \n",
    "pos = kkma.pos(text)  # Ⓒ text 변수에 저장된 문장을 품사 태깅합니다. \n",
    "                      # 태깅된 품사와 형태소들은 리스트 형태로 반환됩니다.\n",
    "\n",
    "print(pos)\n"
   ]
  },
  {
   "cell_type": "code",
   "execution_count": 4,
   "id": "fifth-border",
   "metadata": {
    "ExecuteTime": {
     "end_time": "2021-04-19T06:38:42.733254Z",
     "start_time": "2021-04-19T06:38:42.633866Z"
    }
   },
   "outputs": [
    {
     "name": "stdout",
     "output_type": "stream",
     "text": [
      "['아버지', '방']\n"
     ]
    }
   ],
   "source": [
    "#명사만 추출\n",
    "nouns = kkma.nouns(text)  # ③ text 변수에 저장된 문장에서 품사가 명사인 단어들만 추출합니다.\n",
    "\n",
    "print(nouns)\n"
   ]
  },
  {
   "cell_type": "code",
   "execution_count": 5,
   "id": "focused-project",
   "metadata": {
    "ExecuteTime": {
     "end_time": "2021-04-19T06:38:43.605290Z",
     "start_time": "2021-04-19T06:38:43.451797Z"
    }
   },
   "outputs": [
    {
     "name": "stdout",
     "output_type": "stream",
     "text": [
      "['국내 코스 피가 3000 선을 돌파하였습니다!', '이번 해는 정말 기대가 되네요!']\n"
     ]
    }
   ],
   "source": [
    "\n",
    "#문장 분리\n",
    "sentences = \"국내 코스피가 3000선을 돌파하였습니다! 이번 해는 정말 기대가 되네요!\"\n",
    "s = kkma.sentences(sentences) # ④ 복합 문장(2개 이상의 문장)이 있을 때 문장 단위로 토크나이징합니다.\n",
    "print(s)"
   ]
  },
  {
   "cell_type": "markdown",
   "id": "forbidden-chance",
   "metadata": {},
   "source": [
    "    Kkma의 경우 다른 형태소 분석기에 비해 분석 시간이 느리지만 Okt(𝑂𝑝𝑒𝑛 𝐾𝑜𝑟𝑒𝑎𝑛 𝑡𝑒𝑥𝑡) 기준의 품사 태그에 비해 지원하는 품사 태그가 다양합니다. \n",
    "    따라서 속도가 느리더라도 정확한 품사 정보가 필요할 때는 Kkma를 많이 사용합니다.\n"
   ]
  },
  {
   "cell_type": "code",
   "execution_count": null,
   "id": "virgin-hammer",
   "metadata": {},
   "outputs": [],
   "source": []
  },
  {
   "cell_type": "markdown",
   "id": "third-thousand",
   "metadata": {},
   "source": [
    "#### Okt 한국어 처리기"
   ]
  },
  {
   "cell_type": "markdown",
   "id": "spare-annotation",
   "metadata": {},
   "source": [
    "    Okt의 경우 앞서 소개한 형태소 분석기들보다 분석되는 품사 정보는 작지만 분석 속도는 제일 빠릅니다. \n",
    "    또한 normalize() 함수를 지원해 오타가 섞인 문장을 정규화해서 처리하는 데 효과적입니다.\n"
   ]
  },
  {
   "cell_type": "code",
   "execution_count": 6,
   "id": "encouraging-liberia",
   "metadata": {
    "ExecuteTime": {
     "end_time": "2021-04-19T06:38:45.942760Z",
     "start_time": "2021-04-19T06:38:45.894859Z"
    }
   },
   "outputs": [],
   "source": [
    "from konlpy.tag import Okt\n",
    "okt = Okt()\t#Okt 형태소 분석기 객체 생성\n",
    "\n",
    "text = \"인공지능을 배우는 채널 코드라이언\"\n"
   ]
  },
  {
   "cell_type": "code",
   "execution_count": 7,
   "id": "practical-passenger",
   "metadata": {
    "ExecuteTime": {
     "end_time": "2021-04-19T06:38:56.227856Z",
     "start_time": "2021-04-19T06:38:46.447623Z"
    }
   },
   "outputs": [
    {
     "name": "stdout",
     "output_type": "stream",
     "text": [
      "['인공', '지능', '을', '배우는', '채널', '코드', '라이언']\n"
     ]
    }
   ],
   "source": [
    "morphs = okt.morphs(text)  #형태소 추출\n",
    "print(morphs)"
   ]
  },
  {
   "cell_type": "code",
   "execution_count": 8,
   "id": "cardiovascular-twenty",
   "metadata": {
    "ExecuteTime": {
     "end_time": "2021-04-19T06:38:56.336781Z",
     "start_time": "2021-04-19T06:38:56.277507Z"
    }
   },
   "outputs": [
    {
     "name": "stdout",
     "output_type": "stream",
     "text": [
      "[('인공', 'Noun'), ('지능', 'Noun'), ('을', 'Josa'), ('배우는', 'Verb'), ('채널', 'Noun'), ('코드', 'Noun'), ('라이언', 'Noun')]\n"
     ]
    }
   ],
   "source": [
    "pos = okt.pos(text)  #형태소와 품사 태그 추출\n",
    "print(pos)"
   ]
  },
  {
   "cell_type": "code",
   "execution_count": 9,
   "id": "political-envelope",
   "metadata": {
    "ExecuteTime": {
     "end_time": "2021-04-19T06:38:56.476075Z",
     "start_time": "2021-04-19T06:38:56.386296Z"
    }
   },
   "outputs": [
    {
     "name": "stdout",
     "output_type": "stream",
     "text": [
      "['인공', '지능', '채널', '코드', '라이언']\n"
     ]
    }
   ],
   "source": [
    "nouns = okt.nouns(text)  #명사만 추출\n",
    "print(nouns)"
   ]
  },
  {
   "cell_type": "code",
   "execution_count": 10,
   "id": "subtle-juice",
   "metadata": {
    "ExecuteTime": {
     "end_time": "2021-04-19T06:38:56.600864Z",
     "start_time": "2021-04-19T06:38:56.526776Z"
    }
   },
   "outputs": [
    {
     "name": "stdout",
     "output_type": "stream",
     "text": [
      "롤 한판 하실래요ㅋㅋ?\n"
     ]
    }
   ],
   "source": [
    "text = \"롤 한판 하실래욬ㅋㅋ?\"\n",
    "print(okt.normalize(text))  #정규화, 어구 추출"
   ]
  },
  {
   "cell_type": "markdown",
   "id": "inappropriate-thanks",
   "metadata": {},
   "source": [
    "    화자가 챗봇에 질의할 때는 구어체나 오타가 섞인 채 입력하는 경우가 많습니다. 이때 입력된 문장을 정규화 하면 성능 향상에 도움이 됩니다\n"
   ]
  },
  {
   "cell_type": "code",
   "execution_count": null,
   "id": "interpreted-backup",
   "metadata": {},
   "outputs": [],
   "source": [
    "# text 변수에 저장된 문장을 어구 단위로 추출합니다.\n",
    "print(okt.phrases(text))"
   ]
  },
  {
   "cell_type": "code",
   "execution_count": null,
   "id": "broadband-shore",
   "metadata": {},
   "outputs": [],
   "source": []
  },
  {
   "cell_type": "markdown",
   "id": "voluntary-reader",
   "metadata": {},
   "source": [
    "#### Komoran"
   ]
  },
  {
   "cell_type": "code",
   "execution_count": 4,
   "id": "nominated-winning",
   "metadata": {
    "ExecuteTime": {
     "end_time": "2021-04-20T05:23:52.517635Z",
     "start_time": "2021-04-20T05:23:50.097332Z"
    }
   },
   "outputs": [
    {
     "name": "stdout",
     "output_type": "stream",
     "text": [
      "[('코', 'NNG'), ('모란', 'NNP'), ('은', 'JX'), ('형태소', 'NNP'), ('분석기', 'NNG'), ('의', 'JKG'), ('종류', 'NNG'), ('중', 'NNB'), ('하나', 'NR'), ('이', 'VCP'), ('다', 'EF'), ('.', 'SF')]\n"
     ]
    }
   ],
   "source": [
    "from konlpy.tag import Komoran\n",
    "\n",
    "komoran = Komoran()\n",
    "text = \"코모란은 형태소 분석기의 종류 중 하나이다.\"\n",
    "pos = komoran.pos(text)\n",
    "print(pos)\n",
    "\n",
    "# [('코', 'NNG'), ('모란', 'NNP'), ('은', 'JX'), ('형태소', 'NNP'), ('분석기', 'NNG'), ('의', 'JKG'), \n",
    "#  ('종류', 'NNG'), ('중', 'NNB'), ('하나', 'NR'), ('이', 'VCP'), ('다', 'EF'), ('.', 'SF')]"
   ]
  },
  {
   "cell_type": "code",
   "execution_count": 5,
   "id": "unlike-illustration",
   "metadata": {
    "ExecuteTime": {
     "end_time": "2021-04-20T05:25:54.624718Z",
     "start_time": "2021-04-20T05:25:50.935539Z"
    }
   },
   "outputs": [
    {
     "name": "stdout",
     "output_type": "stream",
     "text": [
      "[('코모란', 'NNP'), ('은', 'JX'), ('형태소', 'NNP'), ('분석기', 'NNG'), ('의', 'JKG'), ('종류', 'NNG'), ('중', 'NNB'), ('하나', 'NR'), ('이', 'VCP'), ('다', 'EF'), ('.', 'SF')]\n"
     ]
    }
   ],
   "source": [
    "komoran = Komoran(userdic='data/user_dic.tsv')\n",
    "text = \"코모란은 형태소 분석기의 종류 중 하나이다.\"\n",
    "pos = komoran.pos(text)\n",
    "print(pos)\n",
    "\n",
    "# [('코모란', 'NNP'), ('은', 'JX'), ('형태소', 'NNP'), ('분석기', 'NNG'), ('의', 'JKG'), \n",
    "# ('종류', 'NNG'),  ('중', 'NNB'), ('하나', 'NR'), ('이', 'VCP'), ('다', 'EF'), ('.', 'SF')]\n",
    "\n"
   ]
  },
  {
   "cell_type": "code",
   "execution_count": null,
   "id": "excess-israeli",
   "metadata": {},
   "outputs": [],
   "source": []
  },
  {
   "cell_type": "code",
   "execution_count": null,
   "id": "deluxe-moses",
   "metadata": {},
   "outputs": [],
   "source": []
  },
  {
   "cell_type": "code",
   "execution_count": 7,
   "id": "enormous-questionnaire",
   "metadata": {
    "ExecuteTime": {
     "end_time": "2021-04-20T05:29:56.092159Z",
     "start_time": "2021-04-20T05:29:45.831172Z"
    }
   },
   "outputs": [
    {
     "name": "stdout",
     "output_type": "stream",
     "text": [
      "[('유', 'NNG'), ('재석', 'NNG'), ('은', 'JX'), ('개그맨', 'NNG')]\n"
     ]
    }
   ],
   "source": [
    "from konlpy.tag import Kkma\n",
    "\n",
    "kkma = Kkma()\n",
    "text = \"유재석은 개그맨\"\n",
    "pos = kkma.pos(text)\n",
    "print(pos)\n",
    "\n",
    "# [('유', 'NNG'), ('재석', 'NNG'), ('은', 'JX'), ('개그맨', 'NNG')]"
   ]
  },
  {
   "cell_type": "code",
   "execution_count": 8,
   "id": "instrumental-wyoming",
   "metadata": {
    "ExecuteTime": {
     "end_time": "2021-04-20T05:31:47.034524Z",
     "start_time": "2021-04-20T05:31:46.710814Z"
    }
   },
   "outputs": [
    {
     "ename": "TypeError",
     "evalue": "__init__() got an unexpected keyword argument 'userdic'",
     "output_type": "error",
     "traceback": [
      "\u001b[1;31m---------------------------------------------------------------------------\u001b[0m",
      "\u001b[1;31mTypeError\u001b[0m                                 Traceback (most recent call last)",
      "\u001b[1;32m<ipython-input-8-4fe32f6a82ea>\u001b[0m in \u001b[0;36m<module>\u001b[1;34m\u001b[0m\n\u001b[1;32m----> 1\u001b[1;33m \u001b[0mkkma\u001b[0m \u001b[1;33m=\u001b[0m \u001b[0mKkma\u001b[0m\u001b[1;33m(\u001b[0m\u001b[0muserdic\u001b[0m\u001b[1;33m=\u001b[0m\u001b[1;34m'data/user_dic.tsv'\u001b[0m\u001b[1;33m)\u001b[0m\u001b[1;33m\u001b[0m\u001b[1;33m\u001b[0m\u001b[0m\n\u001b[0m\u001b[0;32m      2\u001b[0m \u001b[0mtext\u001b[0m \u001b[1;33m=\u001b[0m \u001b[1;34m\"유재석은 개그맨\"\u001b[0m\u001b[1;33m\u001b[0m\u001b[1;33m\u001b[0m\u001b[0m\n\u001b[0;32m      3\u001b[0m \u001b[0mpos\u001b[0m \u001b[1;33m=\u001b[0m \u001b[0mkkma\u001b[0m\u001b[1;33m.\u001b[0m\u001b[0mpos\u001b[0m\u001b[1;33m(\u001b[0m\u001b[0mtext\u001b[0m\u001b[1;33m)\u001b[0m\u001b[1;33m\u001b[0m\u001b[1;33m\u001b[0m\u001b[0m\n\u001b[0;32m      4\u001b[0m \u001b[0mprint\u001b[0m\u001b[1;33m(\u001b[0m\u001b[0mpos\u001b[0m\u001b[1;33m)\u001b[0m\u001b[1;33m\u001b[0m\u001b[1;33m\u001b[0m\u001b[0m\n\u001b[0;32m      5\u001b[0m \u001b[1;33m\u001b[0m\u001b[0m\n",
      "\u001b[1;31mTypeError\u001b[0m: __init__() got an unexpected keyword argument 'userdic'"
     ]
    }
   ],
   "source": [
    "kkma = Kkma(userdic='data/user_dic.tsv')\n",
    "text = \"유재석은 개그맨\"\n",
    "pos = kkma.pos(text)\n",
    "print(pos)\n",
    "\n"
   ]
  },
  {
   "cell_type": "code",
   "execution_count": 9,
   "id": "standing-income",
   "metadata": {
    "ExecuteTime": {
     "end_time": "2021-04-20T05:36:45.294110Z",
     "start_time": "2021-04-20T05:36:36.567199Z"
    }
   },
   "outputs": [
    {
     "name": "stdout",
     "output_type": "stream",
     "text": [
      "[('유재석', 'Noun'), ('은', 'Josa'), ('개그맨', 'Noun')]\n"
     ]
    }
   ],
   "source": [
    "from konlpy.tag import Okt\n",
    "okt = Okt()\n",
    "text = \"유재석은 개그맨\"\n",
    "pos = okt.pos(text)\n",
    "print(pos)"
   ]
  },
  {
   "cell_type": "code",
   "execution_count": null,
   "id": "regulation-wagner",
   "metadata": {},
   "outputs": [],
   "source": []
  },
  {
   "cell_type": "code",
   "execution_count": null,
   "id": "adjacent-expansion",
   "metadata": {},
   "outputs": [],
   "source": []
  }
 ],
 "metadata": {
  "kernelspec": {
   "display_name": "Python 3",
   "language": "python",
   "name": "python3"
  },
  "language_info": {
   "codemirror_mode": {
    "name": "ipython",
    "version": 3
   },
   "file_extension": ".py",
   "mimetype": "text/x-python",
   "name": "python",
   "nbconvert_exporter": "python",
   "pygments_lexer": "ipython3",
   "version": "3.7.1"
  },
  "toc": {
   "base_numbering": 1,
   "nav_menu": {},
   "number_sections": true,
   "sideBar": true,
   "skip_h1_title": false,
   "title_cell": "Table of Contents",
   "title_sidebar": "Contents",
   "toc_cell": false,
   "toc_position": {},
   "toc_section_display": true,
   "toc_window_display": false
  },
  "varInspector": {
   "cols": {
    "lenName": 16,
    "lenType": 16,
    "lenVar": 40
   },
   "kernels_config": {
    "python": {
     "delete_cmd_postfix": "",
     "delete_cmd_prefix": "del ",
     "library": "var_list.py",
     "varRefreshCmd": "print(var_dic_list())"
    },
    "r": {
     "delete_cmd_postfix": ") ",
     "delete_cmd_prefix": "rm(",
     "library": "var_list.r",
     "varRefreshCmd": "cat(var_dic_list()) "
    }
   },
   "types_to_exclude": [
    "module",
    "function",
    "builtin_function_or_method",
    "instance",
    "_Feature"
   ],
   "window_display": false
  }
 },
 "nbformat": 4,
 "nbformat_minor": 5
}
