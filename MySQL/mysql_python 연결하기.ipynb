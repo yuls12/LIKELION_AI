{
 "cells": [
  {
   "cell_type": "code",
   "execution_count": 13,
   "id": "empty-somerset",
   "metadata": {
    "ExecuteTime": {
     "end_time": "2021-04-29T04:37:03.983781Z",
     "start_time": "2021-04-29T04:37:03.973734Z"
    }
   },
   "outputs": [
    {
     "name": "stdout",
     "output_type": "stream",
     "text": [
      "DB 연결 성공\n",
      "DB 연결 닫기 성공\n"
     ]
    }
   ],
   "source": [
    "import pymysql\n",
    "\n",
    "db = None\n",
    "\n",
    "try:\n",
    "    db = pymysql.connect(host='localhost',\n",
    "                         user='root',\n",
    "                         passwd='1234',\n",
    "                         db='mysql',\n",
    "                         charset = 'utf8')\n",
    "    print(\"DB 연결 성공\")\n",
    "\n",
    "except Exception as e:\n",
    "    print(e) # DB 연결 실패 시 오류 내용 출력\n",
    "    \n",
    "finally:\n",
    "    if db is not None : # DB 가 연결된 경우에만 접속 닫기 시도\n",
    "        db.close()\n",
    "        print(\"DB 연결 닫기 성공\")"
   ]
  },
  {
   "cell_type": "markdown",
   "id": "compatible-instrument",
   "metadata": {},
   "source": [
    "#### table 생성"
   ]
  },
  {
   "cell_type": "code",
   "execution_count": 17,
   "id": "negative-chuck",
   "metadata": {
    "ExecuteTime": {
     "end_time": "2021-04-29T04:40:31.238146Z",
     "start_time": "2021-04-29T04:40:31.150414Z"
    }
   },
   "outputs": [
    {
     "name": "stdout",
     "output_type": "stream",
     "text": [
      "DB 연결 성공\n",
      "DB 연결 닫기 성공\n"
     ]
    }
   ],
   "source": [
    "import pymysql\n",
    "\n",
    "db = None\n",
    "\n",
    "try:\n",
    "    db = pymysql.connect(host='localhost',\n",
    "                         user='root',\n",
    "                         passwd='1234',\n",
    "                         db='k_digital',\n",
    "                         charset = 'utf8')\n",
    "    print(\"DB 연결 성공\")\n",
    "    \n",
    "    sql ='''\n",
    "    create table tb_student(\n",
    "    id int primary key auto_increment not null,\n",
    "    name varchar(32),\n",
    "    age int,\n",
    "    address varchar(32)\n",
    "    ) engine = InnoDB default charset=utf8\n",
    "    '''\n",
    "    \n",
    "    with db.cursor() as cursor:\n",
    "        cursor.execute(sql)\n",
    "    \n",
    "    \n",
    "    \n",
    "\n",
    "except Exception as e:\n",
    "    print(e) # DB 연결 실패 시 오류 내용 출력\n",
    "    \n",
    "finally:\n",
    "    if db is not None : # DB 가 연결된 경우에만 접속 닫기 시도\n",
    "        db.close()\n",
    "        print(\"DB 연결 닫기 성공\")"
   ]
  },
  {
   "cell_type": "markdown",
   "id": "straight-presence",
   "metadata": {},
   "source": [
    "#### 데이터 삽입"
   ]
  },
  {
   "cell_type": "code",
   "execution_count": 25,
   "id": "recent-cookie",
   "metadata": {
    "ExecuteTime": {
     "end_time": "2021-04-29T04:44:19.863751Z",
     "start_time": "2021-04-29T04:44:19.814109Z"
    }
   },
   "outputs": [
    {
     "name": "stdout",
     "output_type": "stream",
     "text": [
      "DB 연결 성공\n",
      "DB 연결 닫기 성공\n"
     ]
    }
   ],
   "source": [
    "import pymysql\n",
    "\n",
    "db = None\n",
    "\n",
    "try:\n",
    "    db = pymysql.connect(host='localhost',\n",
    "                         user='root',\n",
    "                         passwd='1234',\n",
    "                         db='k_digital',\n",
    "                         charset = 'utf8')\n",
    "    print(\"DB 연결 성공\")\n",
    "\n",
    "    sql ='''\n",
    "    insert tb_student(name, age, address) values('yul', 26, 'Korea')\n",
    "    '''\n",
    "    \n",
    "    with db.cursor() as cursor:\n",
    "        cursor.execute(sql)\n",
    "    db.commit()\n",
    "    \n",
    "    \n",
    "\n",
    "except Exception as e:\n",
    "    print(e) # DB 연결 실패 시 오류 내용 출력\n",
    "    \n",
    "finally:\n",
    "    if db is not None : # DB 가 연결된 경우에만 접속 닫기 시도\n",
    "        db.close()\n",
    "        print(\"DB 연결 닫기 성공\")"
   ]
  },
  {
   "cell_type": "markdown",
   "id": "formed-central",
   "metadata": {},
   "source": [
    "#### 데이터 변경"
   ]
  },
  {
   "cell_type": "code",
   "execution_count": 28,
   "id": "oriental-pierre",
   "metadata": {
    "ExecuteTime": {
     "end_time": "2021-04-29T04:47:11.077239Z",
     "start_time": "2021-04-29T04:47:11.037572Z"
    }
   },
   "outputs": [
    {
     "name": "stdout",
     "output_type": "stream",
     "text": [
      "DB 연결 성공\n",
      "DB 연결 닫기 성공\n"
     ]
    }
   ],
   "source": [
    "import pymysql\n",
    "\n",
    "db = None\n",
    "\n",
    "try:\n",
    "    db = pymysql.connect(host='localhost',\n",
    "                         user='root',\n",
    "                         passwd='1234',\n",
    "                         db='k_digital',\n",
    "                         charset = 'utf8')\n",
    "    print(\"DB 연결 성공\")\n",
    "    \n",
    "    id = 2\n",
    "    sql ='''\n",
    "    update tb_student set name='YURI',age=25 where id = %d\n",
    "    ''' % id\n",
    "    \n",
    "    with db.cursor() as cursor:\n",
    "        cursor.execute(sql)\n",
    "    db.commit()\n",
    "    \n",
    "    \n",
    "\n",
    "except Exception as e:\n",
    "    print(e) # DB 연결 실패 시 오류 내용 출력\n",
    "    \n",
    "finally:\n",
    "    if db is not None : # DB 가 연결된 경우에만 접속 닫기 시도\n",
    "        db.close()\n",
    "        print(\"DB 연결 닫기 성공\")"
   ]
  },
  {
   "cell_type": "markdown",
   "id": "fewer-nature",
   "metadata": {},
   "source": [
    "#### 데이터 삭제"
   ]
  },
  {
   "cell_type": "code",
   "execution_count": 27,
   "id": "thirty-scott",
   "metadata": {
    "ExecuteTime": {
     "end_time": "2021-04-29T04:46:50.925114Z",
     "start_time": "2021-04-29T04:46:50.873482Z"
    }
   },
   "outputs": [
    {
     "name": "stdout",
     "output_type": "stream",
     "text": [
      "DB 연결 성공\n",
      "DB 연결 닫기 성공\n"
     ]
    }
   ],
   "source": [
    "import pymysql\n",
    "\n",
    "db = None\n",
    "\n",
    "try:\n",
    "    db = pymysql.connect(host='localhost',\n",
    "                         user='root',\n",
    "                         passwd='1234',\n",
    "                         db='k_digital',\n",
    "                         charset = 'utf8')\n",
    "    print(\"DB 연결 성공\")\n",
    "    \n",
    "    id = 1\n",
    "    sql ='''\n",
    "    DELETE FROM tb_student WHERE id=%d\n",
    "    ''' % id\n",
    "    \n",
    "    with db.cursor() as cursor:\n",
    "        cursor.execute(sql)\n",
    "    db.commit()\n",
    "    \n",
    "    \n",
    "\n",
    "except Exception as e:\n",
    "    print(e) # DB 연결 실패 시 오류 내용 출력\n",
    "    \n",
    "finally:\n",
    "    if db is not None : # DB 가 연결된 경우에만 접속 닫기 시도\n",
    "        db.close()\n",
    "        print(\"DB 연결 닫기 성공\")"
   ]
  },
  {
   "cell_type": "markdown",
   "id": "insured-start",
   "metadata": {},
   "source": [
    "#### 다수의 데이터 삽입"
   ]
  },
  {
   "cell_type": "code",
   "execution_count": 37,
   "id": "significant-payment",
   "metadata": {
    "ExecuteTime": {
     "end_time": "2021-04-29T04:58:52.474375Z",
     "start_time": "2021-04-29T04:58:52.456283Z"
    }
   },
   "outputs": [
    {
     "name": "stdout",
     "output_type": "stream",
     "text": [
      "DB 연결 성공\n",
      "(1054, \"Unknown column 'AIRIM' in 'field list'\")\n",
      "DB 연결 닫기 성공\n"
     ]
    }
   ],
   "source": [
    "import pymysql\n",
    "\n",
    "db = None\n",
    "\n",
    "try:\n",
    "    db = pymysql.connect(host='localhost',\n",
    "                         user='root',\n",
    "                         passwd='1234',\n",
    "                         db='k_digital',\n",
    "                         charset='utf8')\n",
    "    print(\"DB 연결 성공\")\n",
    "\n",
    "    students = [\n",
    "        {\n",
    "            'name': 'AIRIM',\n",
    "            'age': 36,\n",
    "            'address': 'SEOUL'\n",
    "        },\n",
    "        {\n",
    "            'name': 'YUL',\n",
    "            'age': 26,\n",
    "            'address': 'GANGSEO'\n",
    "        },\n",
    "        {\n",
    "            'name': 'SUZY',\n",
    "            'age': 28,\n",
    "            'address': 'PUSAN'\n",
    "        },\n",
    "    ]\n",
    "\n",
    "    for s in students:\n",
    "        with db.cursor() as cursor:\n",
    "            sql = '''\n",
    "            insert tb_student(name, age, address) values(%s,%d,%s)\n",
    "            ''' % (s['name'], s['age'], s['address'])\n",
    "            cursor.execute(sql)\n",
    "\n",
    "    db.commit()\n",
    "\n",
    "    # 30대 학생만 조회 ②\n",
    "    cond_age = 30\n",
    "    with db.cursor(pymysql.cursors.DictCursor) as cursor:\n",
    "        sql = '''\n",
    "        select from tb_student where age > %d\n",
    "        ''' % cond_age\n",
    "        cursor.execute(sql)\n",
    "        results = cursor.fetchall()\n",
    "    print(results)  #가져온 데이터 출력\n",
    "\n",
    "    cond_name = 'AIRIM'  # 찾고자 하는 이름\n",
    "    with db.cursor(pymysql.cursors.DictCursor) as cursor:\n",
    "        sql = '''\n",
    "        select from tb_student where name=\"%s\"\n",
    "        ''' % cond_name\n",
    "        cursor.execute(sql)\n",
    "        result = cursor.fetchone()  #select 구문으로 조회한 데이터 중 하나만 불러오는 함수\n",
    "    print(result[' name'], result['age'])\n",
    "    #pandas 데이터 프레임으로 표현\n",
    "    \n",
    "    df = pd.DataFrame(results)\n",
    "    print(df)\n",
    "\n",
    "except Exception as e:\n",
    "    print(e)  # DB 연결 실패 시 오류 내용 출력\n",
    "\n",
    "finally:\n",
    "    if db is not None:  # DB 가 연결된 경우에만 접속 닫기 시도\n",
    "        db.close()\n",
    "        print(\"DB 연결 닫기 성공\")"
   ]
  },
  {
   "cell_type": "markdown",
   "id": "traditional-crime",
   "metadata": {},
   "source": [
    "#### 데이터 조회"
   ]
  },
  {
   "cell_type": "code",
   "execution_count": null,
   "id": "committed-audience",
   "metadata": {},
   "outputs": [],
   "source": [
    "# 30대 학생만 조회 ②\n",
    "cond_age = 30\n",
    "with db.cursor(pymysql.cursors.DictCursor) as cursor:\n",
    "    sql = '''\n",
    "    select from tb_student where age > %d\n",
    "    ''' % cond_age\n",
    "    cursor.execute(sql)\n",
    "    results = cursor.fetchall()\n",
    "print (results) 가져온 데이터 출력\n",
    "\n",
    "cond_name ='AIRIM' # 찾고자 하는 이름\n",
    "with db.cursor(pymysql.cursors.DictCursor) as cursor:\n",
    "    sql = '''\n",
    "    select from tb_student where name=\"%s\"\n",
    "    ''' % cond_name\n",
    "    cursor.execute(sql)\n",
    "    result = cursor.fetchone() #select 구문으로 조회한 데이터 중 하나만 불러오는 함수\n",
    "print ( result[' name'], result['age'])\n",
    "#pandas 데이터 프레임으로 표현\n",
    "df = pd.DataFrame(results)\n",
    "print (df)\n",
    "except Exception as e:\n",
    "    print (e)\n",
    "finally :\n",
    "    if db is not None\n",
    "        db.close()"
   ]
  }
 ],
 "metadata": {
  "kernelspec": {
   "display_name": "Python 3",
   "language": "python",
   "name": "python3"
  },
  "language_info": {
   "codemirror_mode": {
    "name": "ipython",
    "version": 3
   },
   "file_extension": ".py",
   "mimetype": "text/x-python",
   "name": "python",
   "nbconvert_exporter": "python",
   "pygments_lexer": "ipython3",
   "version": "3.7.1"
  },
  "toc": {
   "base_numbering": 1,
   "nav_menu": {},
   "number_sections": true,
   "sideBar": true,
   "skip_h1_title": false,
   "title_cell": "Table of Contents",
   "title_sidebar": "Contents",
   "toc_cell": false,
   "toc_position": {},
   "toc_section_display": true,
   "toc_window_display": false
  },
  "varInspector": {
   "cols": {
    "lenName": 16,
    "lenType": 16,
    "lenVar": 40
   },
   "kernels_config": {
    "python": {
     "delete_cmd_postfix": "",
     "delete_cmd_prefix": "del ",
     "library": "var_list.py",
     "varRefreshCmd": "print(var_dic_list())"
    },
    "r": {
     "delete_cmd_postfix": ") ",
     "delete_cmd_prefix": "rm(",
     "library": "var_list.r",
     "varRefreshCmd": "cat(var_dic_list()) "
    }
   },
   "types_to_exclude": [
    "module",
    "function",
    "builtin_function_or_method",
    "instance",
    "_Feature"
   ],
   "window_display": false
  }
 },
 "nbformat": 4,
 "nbformat_minor": 5
}
