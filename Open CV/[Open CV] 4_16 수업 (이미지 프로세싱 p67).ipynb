{
 "cells": [
  {
   "cell_type": "markdown",
   "id": "brazilian-australia",
   "metadata": {},
   "source": [
    "### 관심 영역 지정"
   ]
  },
  {
   "cell_type": "markdown",
   "id": "vocational-coupon",
   "metadata": {},
   "source": [
    "#### 지정한 관심 영역을 새 창에 표시 roi.copy()"
   ]
  },
  {
   "cell_type": "code",
   "execution_count": null,
   "id": "industrial-number",
   "metadata": {},
   "outputs": [],
   "source": [
    "import cv2\n",
    "img = cv2.imread('…/data/OPENCV/likelion.png')\n",
    "x = 300; y = 300; w = 130; h = 130 #roi 좌표\n",
    "roi = img[y : y+h, x : x+w]  \n",
    "img_copy = roi.copy()\n",
    "print(roi.shape)\n",
    "\n",
    "# roi에 사각형 그리기\n",
    "cv2.rectangle(roi, (0,0), (h-1, w-1), (0,255,0),3)  \n",
    "cv2.imshow(\"img\",img)\n",
    "cv2.imshow(\"copy_img\", img_copy) # 관심영역만 표시\n",
    "cv2.waitKey(0)  \n",
    "cv2.destroyAllWindows()\n"
   ]
  },
  {
   "cell_type": "markdown",
   "id": "physical-violation",
   "metadata": {},
   "source": [
    "    img_copy = roi.copy()는 관심영역으로 지정한 배열을 복제해서 새로운 배열을 생성합니다. \n",
    "    만약 copy() 함수로 복제본을 만들지 않았다면 새 창에 띄운 눈 그림에도 초록색 사각형이 그려지게 됩니다.\n",
    "    이렇게 관심영역을 지정할 때는 원본 배열의 슬라이싱만을 이용하는 것이 편리할 때도 있고 원본하고는 완전히 분리된 복제본을 사용해야 할 때도 있습니다.\n",
    "    관심영역을 지정하려면 시작 좌표와 크기(폭, 높이)값이 꼭 필요한데, 매번 눈 대중으로 값을 지정하면서 찾아내는 것은 매우 피곤한 작업입니다. "
   ]
  },
  {
   "cell_type": "code",
   "execution_count": null,
   "id": "stuck-treaty",
   "metadata": {},
   "outputs": [],
   "source": []
  },
  {
   "cell_type": "markdown",
   "id": "determined-frost",
   "metadata": {},
   "source": [
    "#### 마우스를 이용해서 원하는 영역을 직접 지정하고 좌표를 알아내기"
   ]
  },
  {
   "cell_type": "code",
   "execution_count": null,
   "id": "preceding-bruce",
   "metadata": {},
   "outputs": [],
   "source": [
    "import cv2\n",
    "\n",
    "isDragging = False\t# 마우스 드래그 상태 저장\n",
    "x0, y0, w, h = -1, -1, -1, -1 # 영역 선택 좌표 저장\n",
    "blue, red = (255,0,0), (0,0,255) # 색상 값 (사각형을 무슨색으로 그릴지)\n",
    "\n",
    "def onMouse(event, x, y, flags, param): #마우스 이벤트 핸들 함수\n",
    "    pass\n",
    "\n",
    "img = cv2.imread('…/data/OPENCV/likelion.png')  cv2.imshow('img', img)\n",
    "cv2.setMouseCallback('img', onMouse) #마우스 이벤트 등록\n",
    "cv2.waitKey()\n",
    "cv2.destroyAllWindows()\n"
   ]
  },
  {
   "cell_type": "code",
   "execution_count": null,
   "id": "convinced-asian",
   "metadata": {},
   "outputs": [],
   "source": []
  },
  {
   "cell_type": "code",
   "execution_count": null,
   "id": "ongoing-saying",
   "metadata": {},
   "outputs": [],
   "source": [
    "def onMouse(event, x, y, flags, param):  #마우스 이벤트 핸들 함수\n",
    "    global isDragging, x0, y0, img\n",
    "    if event == cv2.EVENT_LBUTTONDOWN:  # 마우스 왼쪽 클릭 함수\n",
    "        isDragging = True  #드레그 시작\n",
    "        \n",
    "        #x축 y축 값 할당\n",
    "        x0 = x\n",
    "        y0 = y\n",
    "        \n",
    "    elif event == cv2.EVENT_MOUSEMOVE:  # 마우스가 움직이는 경우\n",
    "        if isDragging:\n",
    "            img_draw = img.copy()\n",
    "            # 마우스가 움직일 때마다 사각형을 그리게 되는데,\n",
    "            # 매번 같은 이미지에 사각형을 그리면 사각형이 누적된 채 그려져서\n",
    "            # 보기에 좋지 않습니다. 그래서 원본을 복사하여 저장을 해두는 것\n",
    "\n",
    "            cv2.rectangle(img_draw, (x0, y0), (x, y), blue, 2)  # 사각형 그리기\n",
    "            cv2.imshow('img', img_draw)  # 그린 것 출력\n",
    "            \n",
    "    elif event == cv2.EVENT_LBUTTONUP:  # 왼쪽 마우스 버튼업 이벤트\n",
    "        if isDragging:  # 드래그 값이 참이라면\n",
    "            isDragging = False  # 드래그 중지\n",
    "            w = x - x0  # 드래그 영역 폭 계산\n",
    "            h = y - y0  # 드레그영역 높이 계산\n",
    "            print(\"x:%d, y:%d, w:%d, h:%d\" % (x0, y0, w, h))\n",
    "\n",
    "            if w > 0 and h > 0:  # 드래그 한 영역이 0 이상인 경우 즉 좌측에서 우측으로 드레그\n",
    "                img_draw = img.copy()  # 선택 영역에 이미지 복제  \n",
    "                #선택영역에 빨간색 사각형 표시\n",
    "                cv2.rectangle(img_draw, (x0, y0), (x, y), red, 2)\n",
    "                cv2.imshow('img', img_draw)  # 빨간색 사각형이 그려진 이미지 화면 출력\n",
    "                roi = img[y0:y0 + h, x0:x0 + w]  # 원본 이미지에서 선택 영역만 ROI로 지정\n",
    "                cv2.imshow('cropped', roi)  # ROI 지정 영역을 새 창으로 표시\n",
    "                cv2.moveWindow('cropped', 0, 0)  # 새 창을 화면 좌측 상단으로 이동\n",
    "                cv2.imwrite('cropped.jpg', roi)  # ROI 영역만 파일로 저장\n",
    "                print('cropped.') # 지정에 성공한 경우 안내문구 출력\n",
    "                \n",
    "            else:  # 드레그를 우측에서 좌측으로 하는 경우\n",
    "                cv2.imshow('img', img)  # 이미지 지속 출력 및 하단 안내문구 출력\n",
    "                print(\"좌측 상단에서 우측 하단으로 영역을 드레그 해주세요.\")"
   ]
  },
  {
   "cell_type": "code",
   "execution_count": null,
   "id": "technological-payment",
   "metadata": {},
   "outputs": [],
   "source": []
  },
  {
   "cell_type": "markdown",
   "id": "certified-dance",
   "metadata": {},
   "source": [
    "#### 마우스 이벤트 처리를 위한 코드 없이도 마우스로 간단히 ROI를 지정\n"
   ]
  },
  {
   "cell_type": "code",
   "execution_count": 2,
   "id": "popular-lawyer",
   "metadata": {
    "ExecuteTime": {
     "end_time": "2021-04-16T04:59:36.432616Z",
     "start_time": "2021-04-16T04:59:22.727806Z"
    }
   },
   "outputs": [
    {
     "name": "stdout",
     "output_type": "stream",
     "text": [
      "240 282 454 287\n"
     ]
    }
   ],
   "source": [
    "import cv2\n",
    "\n",
    "img = cv2.imread('OPENCV/likelion.png')\n",
    "\n",
    "#창의 이름, ROI 선택을 진행할 이미지, 선택 영역 중심에 + 표시 여부\n",
    "x, y, w, h = cv2.selectROI('img', img, True)\n",
    "\n",
    "if w and h:\n",
    "    roi = img[y:y + h, x:x + w]\n",
    "    cv2.imshow('cropped', roi)  # ROI 지정 영역을 새 창으로 표시\n",
    "    cv2.moveWindow('cropped', 0, 0)  # 새 창을 화면 좌측 상단으로 이동\n",
    "    # ROI 영역만 파일로 저장\n",
    "    cv2.imwrite('OPENCV/copy.png', roi)\n",
    "    \n",
    "cv2.imshow('img', img) \n",
    "cv2.waitKey(0)\n",
    "cv2.destroyAllWindows()\n",
    "print(x, y, w, h)"
   ]
  },
  {
   "cell_type": "code",
   "execution_count": null,
   "id": "unavailable-nowhere",
   "metadata": {},
   "outputs": [],
   "source": []
  },
  {
   "cell_type": "code",
   "execution_count": null,
   "id": "finnish-copper",
   "metadata": {},
   "outputs": [],
   "source": []
  },
  {
   "cell_type": "code",
   "execution_count": null,
   "id": "driving-debate",
   "metadata": {},
   "outputs": [],
   "source": []
  }
 ],
 "metadata": {
  "kernelspec": {
   "display_name": "Python 3",
   "language": "python",
   "name": "python3"
  },
  "language_info": {
   "codemirror_mode": {
    "name": "ipython",
    "version": 3
   },
   "file_extension": ".py",
   "mimetype": "text/x-python",
   "name": "python",
   "nbconvert_exporter": "python",
   "pygments_lexer": "ipython3",
   "version": "3.7.1"
  },
  "toc": {
   "base_numbering": 1,
   "nav_menu": {},
   "number_sections": true,
   "sideBar": true,
   "skip_h1_title": false,
   "title_cell": "Table of Contents",
   "title_sidebar": "Contents",
   "toc_cell": false,
   "toc_position": {},
   "toc_section_display": true,
   "toc_window_display": false
  },
  "varInspector": {
   "cols": {
    "lenName": 16,
    "lenType": 16,
    "lenVar": 40
   },
   "kernels_config": {
    "python": {
     "delete_cmd_postfix": "",
     "delete_cmd_prefix": "del ",
     "library": "var_list.py",
     "varRefreshCmd": "print(var_dic_list())"
    },
    "r": {
     "delete_cmd_postfix": ") ",
     "delete_cmd_prefix": "rm(",
     "library": "var_list.r",
     "varRefreshCmd": "cat(var_dic_list()) "
    }
   },
   "types_to_exclude": [
    "module",
    "function",
    "builtin_function_or_method",
    "instance",
    "_Feature"
   ],
   "window_display": false
  }
 },
 "nbformat": 4,
 "nbformat_minor": 5
}
