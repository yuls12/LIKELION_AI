{
 "cells": [
  {
   "cell_type": "markdown",
   "id": "corresponding-spice",
   "metadata": {
    "ExecuteTime": {
     "end_time": "2021-04-15T04:33:32.951574Z",
     "start_time": "2021-04-15T04:33:32.939571Z"
    }
   },
   "source": [
    "#### 이미지 불러오기"
   ]
  },
  {
   "cell_type": "code",
   "execution_count": 3,
   "id": "constant-aging",
   "metadata": {
    "ExecuteTime": {
     "end_time": "2021-04-15T04:36:01.287075Z",
     "start_time": "2021-04-15T04:36:00.525725Z"
    }
   },
   "outputs": [],
   "source": [
    "import cv2\n",
    "img_file = 'OPENCV/likelion.png'\n",
    "img = cv2.imread(img_file) # 이미지 읽어와 img변수에 저장\n",
    "if img is not None:  \n",
    "    cv2.imshow('IMG',img)  # 이미지 출력('IMG'는 윈도우에 뜰 이름)\n",
    "    # 종료 구문\n",
    "    cv2.waitKey()  # 키가 눌릴때까지 대기\n",
    "    cv2.destroyAllWindows() # 키가 눌리면 표시된 창을 모두 닫고 프로그램 종료\n",
    "else:\n",
    "    print(\"NO IMAGE FILE.\")\n"
   ]
  },
  {
   "cell_type": "markdown",
   "id": "antique-actress",
   "metadata": {},
   "source": [
    "    첫 번째 코드의 경로에 표시할 이미지 파일이 저장되어 있어야 합니다. \n",
    "    이 파일을 두 번째 코드에서 cv2.imread() 함수로 읽어 들입니다. \n",
    "    이 함수가 반환하는 타입은 다음 장에서 다룰 Numpy 배열 입니다. \n",
    "    이 반환 값이 정상인지 아닌지 확인하고 나서 cv2.imshow() 함수를 써서 화면에 표시합니다.\n",
    "\n",
    "    이미지와 함께 전달한 문자열 ‘IMG’는 창의 제목 줄에 나타납니다.\n",
    "\n",
    "    그래서 cv2.waitKey() 함수는 키보드의 입력이 있을 때 까지 프로그램을 기다리게 합니다. \n",
    "    키가 입력되면 코드는 cv2.destroyAllWindows()함수에 의해서 표시한 창을 모두 닫고 나서 프로그램을 종료합니다.\n"
   ]
  },
  {
   "cell_type": "markdown",
   "id": "quality-basis",
   "metadata": {},
   "source": [
    "##### 이미지 불러오기 - 그레이 스케일"
   ]
  },
  {
   "cell_type": "code",
   "execution_count": null,
   "id": "copyrighted-ending",
   "metadata": {},
   "outputs": [],
   "source": [
    "import cv2\n",
    "img_file = 'OPENCV/likelion.png'\n",
    "img = cv2.imread(img_file, cv2.IMREAD_GRAYSCALE)\n",
    "if img is not None:  \n",
    "    cv2.imshow('IMG',img)  \n",
    "    cv2.waitKey()  \n",
    "    cv2.destroyAllWindows()\n",
    "else:\n",
    "    print(\"NO IMAGE FILE.\")"
   ]
  },
  {
   "cell_type": "markdown",
   "id": "tribal-tiger",
   "metadata": {},
   "source": [
    "    cv2.imread() 함수는 파일로부터 이미지를 읽을 때 모드를 지정할 수 있습니다. \n",
    "    별도로 모드를 지정하지 않으면 3개 채널(B,G,R)로 구성된 컬러 스케일로 읽어들이지만, \n",
    "    필요에 따라 그레이 스케일 또는 파일에 저장된 스케일 그대로 읽을 수 있습니다. \n",
    "    위와 같은 코드를 작성하게 되면 그레이 스케일로 지정하면 원래의 파일이 컬러 이미지일지라도 그레이 스케일로 읽습니다. \n",
    "    \n",
    "    그레이 이미지 파일을 cv2.IMREAD_COLOR 옵션을 지정해서 읽는다고 컬러 이미지로 읽어올 수 있는 것은 아니다. "
   ]
  },
  {
   "cell_type": "markdown",
   "id": "streaming-section",
   "metadata": {},
   "source": [
    "#### OpenCV로 읽어들인 이미지를 다시 파일로 저장"
   ]
  },
  {
   "cell_type": "code",
   "execution_count": null,
   "id": "recognized-spanking",
   "metadata": {},
   "outputs": [],
   "source": [
    "img_file = 'OPENCV/likelion.png'  # 이미지 파일\n",
    "save_file = 'OPENCV/likelion_GRAY.png'  # 저장경로\n",
    "img = cv2.imread(img_file, cv2.IMREAD_GRAYSCALE)\n",
    "cv2.imshow(img_file, img)\n",
    "#파일로 저장, 포맷은 확장자에 따름\n",
    "cv2.imwrite(save_file, img)  # 이미지를 파일로 저장\n",
    "cv2.waitKey()\n",
    "cv2.destroyAllWindows()"
   ]
  },
  {
   "cell_type": "markdown",
   "id": "industrial-speaker",
   "metadata": {},
   "source": [
    "    OpenCV로 읽어들인 이미지를 다시 파일로 저장하는 함수는 cv2.imwrite()입니다.\n",
    "        -  cv2.imwrite(file_path, img) : 이미지를 파일에 저장\n",
    "        -  file_path : 저장할 파일 경로 이름, 문자열\n",
    "        -  img : 저장할 영상, Numpy 배열\n",
    "    앞서 컬러 이미지 파일을 그레이 스케일로 읽어들여서 파일로 저장하는 예제입니다. \n",
    "    탐색기나 파인더 등과 같은 파일 관리자로 해당 경로를 살펴보면 그레이 스케일로 바뀐 것을 확인할 수 있습니다. \n",
    "    저장하는 이미지와 파일 포멧은 지정한 파일 이름의 확장자에 따라서 알아서 바뀝니다.\n"
   ]
  },
  {
   "cell_type": "code",
   "execution_count": null,
   "id": "nasty-vietnam",
   "metadata": {},
   "outputs": [],
   "source": []
  },
  {
   "cell_type": "markdown",
   "id": "presidential-settlement",
   "metadata": {},
   "source": [
    "#### 동영상 / 카메라 장치로 부터의 영상"
   ]
  },
  {
   "cell_type": "markdown",
   "id": "vocational-excuse",
   "metadata": {},
   "source": [
    "##### 동영상 파일로부터 연속된 이미지프레임을 읽어오기"
   ]
  },
  {
   "cell_type": "code",
   "execution_count": null,
   "id": "annual-delicious",
   "metadata": {},
   "outputs": [],
   "source": [
    "import cv2\n",
    "\n",
    "video_file = \"OPENCV/likelion_video.mp4\"  # 동영상 파일 경로\n",
    "cap = cv2.VideoCapture(video_file)  # 동영상 캡처 객체 생성\n",
    "\n",
    "if cap.isOpened():  # 캡처 객체 초기화 과정\n",
    "    while True:  # 제대로 연결된 경우\n",
    "        ret, img = cap.read()  # 다음 프레임 읽기\n",
    "        if ret:\n",
    "            cv2.imshow('video_file', img)  # 화면에 표시\n",
    "            cv2.waitKey(25)  # 25ms >  40Fps으로 제어\n",
    "        else:\n",
    "            break\n",
    "else:\n",
    "    print(\"can't open video.\")  # 캡처 객체 초기화 실패\n",
    "\n",
    "cap.release()  # 캡처 자원 반납\n",
    "cv2.destroyAllWindows()"
   ]
  },
  {
   "cell_type": "markdown",
   "id": "connected-amount",
   "metadata": {},
   "source": [
    "    동영상 파일이나 컴퓨터에 연결한 카메라 장치로부터 영상 프레임을 읽기 위해서는 cv2.VideoCapture() 생성자 함수를 사용하여 객체를 생성해야 합니다. \n",
    "    이 함수에 동영상 파일 경로 이름을 전달하면 동영상 파일에 저장된 프레임을 읽을 수 있고, \n",
    "    카메라 장치 번호를 전달하면 카메라로 촬영하는 프레임을 읽을 수 있습니다. \n",
    "\n",
    "    객체를 생성하고 나면 isOpened() 함수로 파일이나 카메라 장치에 제대로 연결되었는지 확인할 수 있고, \n",
    "    연결이 잘 되었다면 read() 함수로 다음 프레임을 읽을 수 있습니다. \n",
    "    read() 함수는 Boolean과 Numpy 배열 객체를 쌍으로 갖는 튜플(ret, img) 객체를 반환하는데, \n",
    "    다음 프레임을 제대로 읽었는지에 따라 ret 값이 정해집니다.\n",
    "\n",
    "    만약 ret값이 False이면 다음 프레임 읽기에 실패한 것이고, 튜플의 나머지 값인 img는 None입니다. \n",
    "    다음 프레임 읽기에 실패하는 경우는 파일이나 장치에 문자에 있거나 파일의 끝에 도달했을 경우입니다. \n",
    "\n",
    "    프로그램을 종료하기 전에 release() 함수를 호출해서 자원을 반납해야 합니다.\n"
   ]
  },
  {
   "cell_type": "markdown",
   "id": "lightweight-calculation",
   "metadata": {},
   "source": [
    "##### 컴퓨터에 연결한 카메라 장치로부터 연속된 이미지프레임을 읽어오기"
   ]
  },
  {
   "cell_type": "code",
   "execution_count": null,
   "id": "weird-little",
   "metadata": {},
   "outputs": [],
   "source": [
    "import cv2\n",
    "\n",
    "cap = cv2.VideoCapture(0)  # 0번 카메라 장치 연결\n",
    "if cap.isOpened():\n",
    "    while True:\n",
    "        ret, img = cap.read()  # 카메라 프레임 읽기\n",
    "        if ret:\n",
    "            cv2.imshow('Camera', img)  # 프레임 이미지 표시\n",
    "            if cv2.waitKey(1) != -1:  # 1ms동안 키 입력 대기\n",
    "                break  # 아무 키나 눌렸으면 중지\n",
    "        else:\n",
    "            print(\"no frame\")\n",
    "            break\n",
    "else:\n",
    "    print(\"can't open camera\")\n",
    "\n",
    "cap.release()\n",
    "cv2.destroyAllWindows()"
   ]
  },
  {
   "cell_type": "markdown",
   "id": "optional-character",
   "metadata": {},
   "source": [
    "\n",
    "    카메라로 프레임을 읽기 위해서는 cv2.VideoCapture()함수에 동영상 파일 경로 대신에 카메라 장치 인덱스 번호를 정수로 지정해 주면 됩니다.\n",
    "    카메라 장치 인덱스 번호는 0부터 시작해서 1씩 증가합니다. \n",
    "    만약 카메라가 하나만 연결되어 있으면 당연히 0번 인덱스를 사용하면 됩니다. \n",
    "    이 부분을 제외  하고는 나머지 코드는 동영상 파일을 읽는것 과 거의 똑같습니다. \n",
    "\n",
    "    cv2.waitKey() 함수는 지정한 대기 시간(1) 동안 키 입력이 없으면 -1을 반환합니다.  \n",
    "    반환된 값이 -1이 아니면 당연히 아무 키나 입력되었다는 뜻 입니다.\n"
   ]
  },
  {
   "cell_type": "markdown",
   "id": "changed-december",
   "metadata": {},
   "source": [
    "##### get()/set() 함수"
   ]
  },
  {
   "cell_type": "code",
   "execution_count": null,
   "id": "controlling-cabin",
   "metadata": {},
   "outputs": [],
   "source": [
    "import cv2\n",
    "\n",
    "video_file = \"OPENCV/likelion_video.mp4\"  # 동영상 파일 경로\n",
    "cap = cv2.VideoCapture(video_file)\n",
    "if cap.isOpened():\n",
    "    fps = cap.get(cv2.CAP_PROP_FPS)\n",
    "    delay = int(1000 / fps)\n",
    "    print(\"FPS : %f, Delay : %dms\" % (fps, delay))\n",
    "    while True:\n",
    "        ret, img = cap.read()\n",
    "        if ret:\n",
    "            cv2.imshow('video_file', img)\n",
    "            cv2.waitKey(delay)\n",
    "        else:\n",
    "            break\n",
    "else:\n",
    "    print(\"can't open video.\")\n",
    "\n",
    "cap.release()\n",
    "cv2.destroyAllWindows()"
   ]
  },
  {
   "cell_type": "markdown",
   "id": "bulgarian-luther",
   "metadata": {},
   "source": [
    "    각 속성 아이디를 get()에 전달하면 해당 속성의 값을 구할 수 있고, \n",
    "    set()함수에 아이디와 값을 함께 전달하면 값을 지정할 수 있습니다.\n",
    "\n",
    "    동영상 파일을 재생하는 실습을 할 때 적절한 FPS에 따라 지연 시간을 설정해야 하지만,\n",
    "    FPS를 대충 짐작하거나 별도의 플레이어를 활용해서 알아내야 했습니다. \n",
    "\n",
    "    FPS를 구하는 상수는 cv2.CAP_PROP_FPS 이고 이것을 동영상의 FPS를 구하고 \n",
    "    다음과 같이 적절한 지연 시간을 계산해서 지정할 수 있습니다.  \n",
    "\n",
    "    cv2.waitKey() 함수에 전달하는 지연 시간은 밀리초(1/1000초) 단위이고 정수만 전달할 수 있으므로 \n",
    "    1초를 1000으로 환산해서 계산한 뒤 정수형으로 바꿉니다.\n"
   ]
  },
  {
   "cell_type": "markdown",
   "id": "descending-porcelain",
   "metadata": {},
   "source": [
    "##### 프레임의 폭과 높이를 제어"
   ]
  },
  {
   "cell_type": "code",
   "execution_count": null,
   "id": "consistent-worcester",
   "metadata": {},
   "outputs": [],
   "source": [
    "cap = cv2.VideoCapture(0)  # 카메라 0번 장치  연결\n",
    "width = cap.get(cv2.CAP_PROP_FRAME_WIDTH)  # 프레임 폭 값 구하기\n",
    "height = cap.get(cv2.CAP_PROP_FRAME_HEIGHT)  # 프레임 높이 값 구하기\n",
    "print(\"Original width : %d, height : %d\" % (width, height))\n",
    "cap.set(cv2.CAP_PROP_FRAME_WIDTH, 320)  # 프레임 폭을 320으로 설정\n",
    "cap.set(cv2.CAP_PROP_FRAME_HEIGHT, 240)  # 프레임 높이를 240으로 설정\n",
    "width = cap.get(cv2.CAP_PROP_FRAME_WIDTH)  # 재지정한프레임 폭 값 구하기\n",
    "height = cap.get(cv2.CAP_PROP_FRAME_HEIGHT)  # 재지정한 프레임 높이 값 구하기\n",
    "print(\"Resize width : %d, height : %d\" % (width, height))\n",
    "\n",
    "if cap.isOpened():  \n",
    "    while True:\n",
    "        ret, img = cap.read()\n",
    "        if ret:\n",
    "            cv2.imshow('camera', img)  \n",
    "            if cv2.waitKey(1) != -1:\n",
    "                break\n",
    "        else:\n",
    "            print(\"no frame!\")\n",
    "            break\n",
    "else:\n",
    "    print(\"can't open camere!\")  \n",
    "    \n",
    "cap.release()  \n",
    "cv2.destroyAllWindows()\n"
   ]
  },
  {
   "cell_type": "markdown",
   "id": "immediate-allergy",
   "metadata": {},
   "source": [
    "\n",
    "    카메라로부터 읽은 영상이 너무 고화질인 경우 픽셀 수가 많아 연산하는데 시간이 많이 걸리는 경우가 있습니다. \n",
    "    이때 프레임의 폭 과 높이를 제어해서 픽셀 수를 줄일 수 있습니다. \n",
    "\n",
    "    프레임의 폭과 높이 속성 아이디 상수는 cv2.CAP_PROP_FRAME_WIDTH와 cv2.CAP_PROP_FRAME_HEIGHT 입니다.  \n",
    "\n"
   ]
  },
  {
   "cell_type": "markdown",
   "id": "after-behalf",
   "metadata": {},
   "source": [
    "##### 비디오에서 특정한 프레임만 이미지로 저장하거나 특정 구간을 동영상 파일로 저장"
   ]
  },
  {
   "cell_type": "code",
   "execution_count": null,
   "id": "sitting-partnership",
   "metadata": {},
   "outputs": [],
   "source": [
    "import cv2\n",
    "\n",
    "cap = cv2.VideoCapture(0)\n",
    "if cap.isOpened():\n",
    "    while True:\n",
    "        ret, frame = cap.read()\n",
    "        if ret:\n",
    "            cv2.imshow('camera', frame)  # 프레임화면에 표시\n",
    "            if cv2.waitKey(1) != -1:  # 아무키나누르면\n",
    "                # 순간 프레임을 'photo.jpg'에 저장\n",
    "                cv2.imwrite('.../data/OPENCV/photo.jpg', frame)\n",
    "                break\n",
    "        else:\n",
    "            print('no frame')\n",
    "            break\n",
    "else:\n",
    "    print(\"no camera!\")\n",
    "\n",
    "cap.release()\n",
    "cv2.destroyAllWindows()"
   ]
  },
  {
   "cell_type": "markdown",
   "id": "strong-edgar",
   "metadata": {},
   "source": [
    "    카메라나 동영상 파일을 재생하는 도중 특정한 프레임만 이미지로 저장하거나 특정 구간을 동영상 파일로 저장할 수도 있습니다.\n",
    "    한 개의 특정 프레임만 파일로 저장하는 방법은 cv2.imwrite() 함수를 그대로 사용하면 됩니다. \n",
    "\n",
    "    다음 예제는 카메라로부터 프레임을 표시하다가 아무 키나 누르면 해당 프레임을 파일로 저장하는 코드입니다. \n",
    "    흔히 카메라로 사진을 찍는 것과 같다고 할 수 있습니다.\n"
   ]
  },
  {
   "cell_type": "code",
   "execution_count": null,
   "id": "sexual-spoke",
   "metadata": {},
   "outputs": [],
   "source": []
  },
  {
   "cell_type": "markdown",
   "id": "allied-infection",
   "metadata": {},
   "source": [
    "#### 이미지나 비디오에 그림을 그리는 방법"
   ]
  },
  {
   "cell_type": "markdown",
   "id": "ignored-nigeria",
   "metadata": {},
   "source": [
    "    객체나 얼굴을 인식해서 그 영역에 사각형을 그려서 표시하고 \n",
    "    그 이름을 글씨로 표시하는 등의 용도로 자주 활용됩니다."
   ]
  },
  {
   "cell_type": "code",
   "execution_count": 1,
   "id": "upset-press",
   "metadata": {
    "ExecuteTime": {
     "end_time": "2021-04-16T04:28:32.974577Z",
     "start_time": "2021-04-16T04:28:32.766093Z"
    },
    "scrolled": true
   },
   "outputs": [
    {
     "data": {
      "text/plain": [
       "array([[[255, 255, 255],\n",
       "        [255, 255, 255],\n",
       "        [255, 255, 255],\n",
       "        ...,\n",
       "        [255, 255, 255],\n",
       "        [255, 255, 255],\n",
       "        [255, 255, 255]],\n",
       "\n",
       "       [[255, 255, 255],\n",
       "        [255, 255, 255],\n",
       "        [255, 255, 255],\n",
       "        ...,\n",
       "        [255, 255, 255],\n",
       "        [255, 255, 255],\n",
       "        [255, 255, 255]],\n",
       "\n",
       "       [[255, 255, 255],\n",
       "        [255, 255, 255],\n",
       "        [255, 255, 255],\n",
       "        ...,\n",
       "        [255, 255, 255],\n",
       "        [255, 255, 255],\n",
       "        [255, 255, 255]],\n",
       "\n",
       "       ...,\n",
       "\n",
       "       [[255, 255, 255],\n",
       "        [255, 255, 255],\n",
       "        [255, 255, 255],\n",
       "        ...,\n",
       "        [255, 255, 255],\n",
       "        [255, 255, 255],\n",
       "        [255, 255, 255]],\n",
       "\n",
       "       [[255, 255, 255],\n",
       "        [255, 255, 255],\n",
       "        [255, 255, 255],\n",
       "        ...,\n",
       "        [255, 255, 255],\n",
       "        [255, 255, 255],\n",
       "        [255, 255, 255]],\n",
       "\n",
       "       [[255, 255, 255],\n",
       "        [255, 255, 255],\n",
       "        [255, 255, 255],\n",
       "        ...,\n",
       "        [255, 255, 255],\n",
       "        [255, 255, 255],\n",
       "        [255, 255, 255]]], dtype=uint8)"
      ]
     },
     "execution_count": 1,
     "metadata": {},
     "output_type": "execute_result"
    }
   ],
   "source": [
    "import cv2\n",
    "import numpy as np\n",
    "# np.full  >  크기만큼  255를 가지고 만들어라\n",
    "img = np.full((500, 500, 3), 255, dtype=np.uint8)  # 크기, 색(0-255), 데이터 타입]\n",
    "img"
   ]
  },
  {
   "cell_type": "code",
   "execution_count": null,
   "id": "isolated-virus",
   "metadata": {},
   "outputs": [],
   "source": [
    "import cv2\n",
    "import numpy as np\n",
    "# np.full  >  크기만큼  255의 수를 가지고 만들어라\n",
    "img = np.full((500, 500, 3), 255, dtype=np.uint8)  # 크기, 색(0-255), 데이터 타입 / 흰 배경을 만드는 코드(도화지)\n",
    "cv2.imwrite('…/data/OPENCV/black_500.jpg', img)"
   ]
  },
  {
   "cell_type": "markdown",
   "id": "portuguese-ecuador",
   "metadata": {},
   "source": [
    "##### 직선 그리기 cv2.line() \n"
   ]
  },
  {
   "cell_type": "markdown",
   "id": "formal-attraction",
   "metadata": {},
   "source": [
    "    이미지에 직선을 그리는 함수는 cv2.line() 입니다. \n",
    "    img 이미지에 start 지점에서 end 지점까지 선을 그립니다.\n",
    "        - cv2.line(img, start, end, color, [thickness, lineType]) : 직선 그리기\n",
    "            *  img : 그림 그릴 대상 이미지, Numpy 배열\n",
    "            * start : 선 시작 지점 좌표(x,y)\n",
    "            * end : 선 끝 지점 좌표(x,y)\n",
    "            * color : 선 색상, (Blue, Green, Red), 0~255  \n",
    "                #일반적으로 웹에서 사용하는 RGB 순서와 반대라는 것이 특징\n",
    "                - thickness = 1 : 선 두께\n",
    "                - lineType : 선 그리기 형식\n",
    "                    * cv2.LINE_4\n",
    "                    * cv2.LINE_8\n",
    "                    * cv2.LINE_AA : 안티에일리어싱(계단 현상 없는 선)\n",
    "\n",
    "\n",
    "\n",
    "\n"
   ]
  },
  {
   "cell_type": "code",
   "execution_count": null,
   "id": "hired-violin",
   "metadata": {},
   "outputs": [],
   "source": [
    "import cv2\n",
    "\n",
    "img = cv2.imread('OPENCV/black_500.jpg')\n",
    "cv2.line(img, (50, 50), (150, 50), (255, 0, 0))  # 파란색 1픽셀 선\n",
    "cv2.line(img, (200, 50), (300, 50), (0, 255, 0))  # 초록색 1픽셀 선\n",
    "cv2.line(img, (350, 50), (450, 50), (0, 0, 5))  # 빨간색 1픽셀 선\n",
    "cv2.line(img, (100, 100), (400, 100), (255, 255, 0), 10)  # 하늘색 10픽셀선\n",
    "cv2.line(img, (100, 150), (400, 150), (255, 0, 255), 10)  # 분홍색 10픽셀선\n",
    "cv2.line(img, (100, 350), (400, 400), (0, 0, 255), 20, cv2.LINE_4)  # 4 연결선\n",
    "cv2.line(img, (100, 400), (400, 450), (0, 0, 255), 20, cv2.LINE_8)  # 8 연결선\n",
    "cv2.line(img, (100, 450), (400, 500), (0, 0, 255), 20, cv2.LINE_AA)  # 안티에일리어싱선\n",
    "cv2.line(img, (0, 0), (500, 500), (0, 0, 255))  # 이미지 전체에 대각선\n",
    "\n",
    "cv2.imshow('lines', img)\n",
    "cv2.waitKey(0)\n",
    "cv2.destroyAllWindows()"
   ]
  },
  {
   "cell_type": "code",
   "execution_count": null,
   "id": "wicked-finish",
   "metadata": {},
   "outputs": [],
   "source": []
  },
  {
   "cell_type": "markdown",
   "id": "fatal-overview",
   "metadata": {},
   "source": [
    "##### 사각형 그리기 cv2.rectangle()\n"
   ]
  },
  {
   "cell_type": "markdown",
   "id": "sonic-december",
   "metadata": {},
   "source": [
    "    사각형을 그리는 함수는 cv2.rectangle() 입니다.\n",
    "        - cv2.rectangle(img, start, end, color, [thickness, lineType]) : 사각형 그리기\n",
    "             * img : 그림 그릴 대상 이미지, Numpy 배열\n",
    "             * start : 사각형 시작 꼭짓점(x,y)\n",
    "             * end : 사각형 끝 꼭짓점(x,y)\n",
    "             * color : 색상 (Blue, Green, Red)\n",
    "                 - thickness : 선 두께\n",
    "                    -1 : 채우기\n",
    "                    #선이 아닌 면을 그리는 것이므로 선의 두께를 지시하는 thickness에 -1을 지정하면 \n",
    "                    # 사각형 면 전체를 color로 채우기를 합니다.\n",
    "                 - lineType\t: 선 타입, cv2.line() 과 동일\n",
    "\n",
    "\n",
    "\n",
    "\n"
   ]
  },
  {
   "cell_type": "code",
   "execution_count": null,
   "id": "organizational-istanbul",
   "metadata": {},
   "outputs": [],
   "source": [
    "import cv2\n",
    "\n",
    "img = cv2.imread('OPENCV/black_500.jpg')\n",
    "#좌상, 우하 좌표로 사각형 그리기\n",
    "cv2.rectangle(img, (50, 50), (150, 150), (255, 0, 0))  \n",
    "\n",
    "#우하, 좌상좌표로 사각형 그리기\n",
    "cv2.rectangle(img, (300, 300), (100, 100), (0, 255, 0), 10) \n",
    "\n",
    "#우상, 좌하좌표로 사각형 채워 그리기\n",
    "cv2.rectangle(img, (450, 200), (200, 450), (0, 0, 255), -1) # 색 채우기\n",
    "\n",
    "cv2.imshow('rectangle', img)\n",
    "cv2.waitKey(0)\n",
    "cv2.destroyAllWindows()"
   ]
  },
  {
   "cell_type": "code",
   "execution_count": null,
   "id": "defensive-humidity",
   "metadata": {},
   "outputs": [],
   "source": []
  },
  {
   "cell_type": "markdown",
   "id": "radio-fence",
   "metadata": {},
   "source": [
    "##### 원과 타원 그리고 호  cv2.circle(), cv2.ellipse()"
   ]
  },
  {
   "cell_type": "markdown",
   "id": "lesbian-gross",
   "metadata": {},
   "source": [
    "    원과 타원 그리고 호를 그리기 위한 함수는 다음과 같습니다.\n",
    "        cv2.circle(img, center, radius, color, [thickness, lineType]) : 원 그리기 함수\n",
    "             - img : 그림 대상 이미지\n",
    "             - center : 원점 좌표(x,y)\n",
    "             - radius : 원의 반지름\n",
    "             - color : 색상(Blue, Green, Red)\n",
    "             - thickness : 선 두께(-1 : 채우기)\n",
    "             - lineType : 선 타입, cv2.line()과 동일\n",
    "\n",
    "    완전한 동그라미를 그릴 때 가장 좋은 함수는 cv2.circle() 입니다. \n",
    "    하지만, 이 함수로는 동그라미의 일부분, 즉 호를 그리거나 찌그러진 동그라미인 타원을 그리는 것은 불가능하며, \n",
    "    이런 호나 타원을 그리려면 cv2.ellipse()함수를 써야 합니다. \n",
    "\n",
    "\n",
    "\n",
    "\n",
    "\n"
   ]
  },
  {
   "cell_type": "code",
   "execution_count": null,
   "id": "palestinian-laser",
   "metadata": {},
   "outputs": [],
   "source": [
    "import cv2\n",
    "img = cv2.imread('OPENCV/black_500.jpg')  \n",
    "#원점(150,150), 반지름 100  \n",
    "cv2.circle(img,(150,150),100,(255,0,0))\n",
    "#원점(300,150), 반지름70  \n",
    "cv2.circle(img,(300,150),70,(0,255,0),5)\n",
    "#원점(400,150), 반지름50,채우기\n",
    "cv2.circle(img,(400,150),50,(0,0,255),-1)\n",
    "#원점(50,300), 반지름(50),기준 축 회전 각도 0, 0도부터 360도그리기\n",
    "\n",
    "cv2.imshow('circle',img)\n",
    "cv2.waitKey(0)\n",
    "cv2.destroyAllWindows()\n"
   ]
  },
  {
   "cell_type": "markdown",
   "id": "veterinary-words",
   "metadata": {},
   "source": [
    "##### 문자열을 이미지에 표시  cv2.putText()"
   ]
  },
  {
   "cell_type": "markdown",
   "id": "posted-guess",
   "metadata": {},
   "source": [
    "    문자열을 이미지에 표시하는 함수는 cv2.putText() 입니다.\n",
    "        - cv2.putText(img, text, point, fontFace, fontSize, color, [thickness, lineType])\n",
    "            - img : 글씨를 표시할 이미지\n",
    "            - text : 표시할 문자열\n",
    "            - point : 글씨를 표시할 좌표(좌측 하단 기준)(x,y)\n",
    "            - fontFace : 글꼴\n",
    "                * cv2.FONT_HERSHEY_PLAIN : 산세리프체 작은 글꼴\n",
    "                * cv2.FONT_HERSHEY_SIMPLEX : 산세리프체 일반 글꼴\n",
    "                * …\n",
    "            - fontSize : 글꼴 크기\n",
    "            - color, thickness, lineType : cv2.retangle()과 동일\n"
   ]
  },
  {
   "cell_type": "code",
   "execution_count": null,
   "id": "swedish-while",
   "metadata": {},
   "outputs": [],
   "source": [
    "import cv2\n",
    "img = cv2.imread('OPENCV/black_500.jpg')\n",
    "cv2.putText(img, \"Hello world\", (50,30),cv2.FONT_HERSHEY_PLAIN,1,(0,0,0))  \n",
    "cv2.putText(img, \"SIMPLEX\", (50,70),cv2.FONT_HERSHEY_SIMPLEX,1,(0,0,0))  \n",
    "cv2.putText(img, \"DUPLEX\", (50,110),cv2.FONT_HERSHEY_DUPLEX,1,(0,0,0))  \n",
    "cv2.putText(img, \"SIMPLEX\",(200,110),cv2.FONT_HERSHEY_SIMPLEX,2,(0,0,250))  \n",
    "cv2.putText(img, \"COMPLEX_SMALL\",(200,110),cv2.FONT_HERSHEY_COMPLEX_SMALL,1,(0,0,0))\n",
    "\n",
    "cv2.imshow('draw text', img)  \n",
    "cv2.waitKey(0)  \n",
    "cv2.destroyAllWindows()\n"
   ]
  },
  {
   "cell_type": "markdown",
   "id": "median-adjustment",
   "metadata": {},
   "source": [
    "##### 창을 관리하는 기능"
   ]
  },
  {
   "cell_type": "code",
   "execution_count": null,
   "id": "abroad-spoke",
   "metadata": {},
   "outputs": [],
   "source": [
    "import cv2\n",
    "file_path = '…/data/OPENCV/photo.jpg'\n",
    "img = cv2.imread(file_path)\t#이미지를 기본값으로 읽기\n",
    "img_gray = cv2.imread(file_path, cv2.IMREAD_GRAYSCALE) #이미지를 그레이 스케일로 읽기\n",
    "cv2.namedWindow('origin', cv2.WINDOW_AUTOSIZE)  \n",
    "cv2.namedWindow('gray', cv2.WINDOW_NORMAL)  \n",
    "cv2.imshow('origin', img)\n",
    "cv2.imshow('gray', img_gray)\n",
    "cv2.moveWindow('origin', 0, 0)\n",
    "cv2.moveWindow('gray', 100, 100)  \n",
    "cv2.waitKey(0)  \n",
    "cv2.resizeWindow('origin', 200, 200)\n",
    "cv2.resizeWindow('gray', 100, 100)\n",
    "cv2.waitKey(0)  \n",
    "cv2.destroyWindow(＇gray＇)  \n",
    "cv2.waitKey(0)  \n",
    "cv2.destroyAllWindows()\n"
   ]
  },
  {
   "cell_type": "code",
   "execution_count": null,
   "id": "detected-legislation",
   "metadata": {},
   "outputs": [],
   "source": []
  },
  {
   "cell_type": "code",
   "execution_count": null,
   "id": "announced-tournament",
   "metadata": {},
   "outputs": [],
   "source": []
  }
 ],
 "metadata": {
  "kernelspec": {
   "display_name": "Python 3",
   "language": "python",
   "name": "python3"
  },
  "language_info": {
   "codemirror_mode": {
    "name": "ipython",
    "version": 3
   },
   "file_extension": ".py",
   "mimetype": "text/x-python",
   "name": "python",
   "nbconvert_exporter": "python",
   "pygments_lexer": "ipython3",
   "version": "3.7.1"
  },
  "toc": {
   "base_numbering": 1,
   "nav_menu": {},
   "number_sections": true,
   "sideBar": true,
   "skip_h1_title": false,
   "title_cell": "Table of Contents",
   "title_sidebar": "Contents",
   "toc_cell": false,
   "toc_position": {},
   "toc_section_display": true,
   "toc_window_display": false
  },
  "varInspector": {
   "cols": {
    "lenName": 16,
    "lenType": 16,
    "lenVar": 40
   },
   "kernels_config": {
    "python": {
     "delete_cmd_postfix": "",
     "delete_cmd_prefix": "del ",
     "library": "var_list.py",
     "varRefreshCmd": "print(var_dic_list())"
    },
    "r": {
     "delete_cmd_postfix": ") ",
     "delete_cmd_prefix": "rm(",
     "library": "var_list.r",
     "varRefreshCmd": "cat(var_dic_list()) "
    }
   },
   "types_to_exclude": [
    "module",
    "function",
    "builtin_function_or_method",
    "instance",
    "_Feature"
   ],
   "window_display": false
  }
 },
 "nbformat": 4,
 "nbformat_minor": 5
}
